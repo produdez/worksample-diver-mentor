{
 "cells": [
  {
   "attachments": {},
   "cell_type": "markdown",
   "metadata": {},
   "source": [
    "# Neural Network\n",
    "\"B Sprint10 assignment Deep Learning Scratch Neural Networks\"\n",
    "\n",
    "[Link](https://diver.diveintocode.jp/curriculums/1876)"
   ]
  },
  {
   "cell_type": "code",
   "execution_count": 418,
   "metadata": {},
   "outputs": [],
   "source": [
    "import numpy as np"
   ]
  },
  {
   "attachments": {},
   "cell_type": "markdown",
   "metadata": {},
   "source": [
    "## [Problem 1] \n",
    "Create a code that determines the initial value of the weight\n",
    ">Write the code that determines the initial weights for each layer of the neural network."
   ]
  },
  {
   "cell_type": "code",
   "execution_count": 419,
   "metadata": {},
   "outputs": [],
   "source": [
    "np.random.seed(0)"
   ]
  },
  {
   "cell_type": "code",
   "execution_count": 420,
   "metadata": {},
   "outputs": [],
   "source": [
    "def initialize_weights(n_features, n_nodes, sigma, n_round = -1):\n",
    "    W = sigma * np.random.randn(n_features, n_nodes)\n",
    "    return W.round(n_round) if n_round > 0 else W\n",
    "\n",
    "def initialize_bias(n_nodes, sigma, n_round = -1):\n",
    "    B = sigma * np.random.randn(n_nodes)\n",
    "    return B.round(n_round) if n_round > 0 else B\n",
    "\n",
    "# Test\n",
    "test_sigma = 0.1\n",
    "n_features = 2\n",
    "n_nodes = 3\n",
    "sigma = 0.01 "
   ]
  },
  {
   "cell_type": "code",
   "execution_count": 421,
   "metadata": {},
   "outputs": [
    {
     "data": {
      "text/plain": [
       "array([[ 0.01764052,  0.00400157,  0.00978738],\n",
       "       [ 0.02240893,  0.01867558, -0.00977278]])"
      ]
     },
     "execution_count": 421,
     "metadata": {},
     "output_type": "execute_result"
    }
   ],
   "source": [
    "initialize_weights(n_features, n_nodes, sigma)"
   ]
  },
  {
   "cell_type": "code",
   "execution_count": 422,
   "metadata": {},
   "outputs": [
    {
     "data": {
      "text/plain": [
       "array([ 0.00950088, -0.00151357, -0.00103219])"
      ]
     },
     "execution_count": 422,
     "metadata": {},
     "output_type": "execute_result"
    }
   ],
   "source": [
    "initialize_bias(n_nodes, sigma)"
   ]
  },
  {
   "cell_type": "code",
   "execution_count": 423,
   "metadata": {},
   "outputs": [
    {
     "data": {
      "text/plain": [
       "array([[0., 0., 0.],\n",
       "       [0., 0., 0.]])"
      ]
     },
     "execution_count": 423,
     "metadata": {},
     "output_type": "execute_result"
    }
   ],
   "source": [
    "# with rounding\n",
    "initialize_weights(n_features, n_nodes, sigma, n_round = 1)"
   ]
  },
  {
   "attachments": {},
   "cell_type": "markdown",
   "metadata": {},
   "source": [
    "## [Description]\n",
    "**In the next three problems (problem 2 & 3 & 4)**\n",
    "```\n",
    "I will walk you through each layer calculations one by one \n",
    "From input (X) and Initializations (Weights-W_i, Bias-B_i) \n",
    "-> to pre-activations (A_i) -> to post-activations layer output (Z_i) \n",
    "-> to final probabilities (Z_n) -> then finally labels (Y) and loss function (L)\n",
    "```\n",
    "And then back around for back-propagation"
   ]
  },
  {
   "attachments": {},
   "cell_type": "markdown",
   "metadata": {},
   "source": [
    "## [Problem 2] \n",
    "Implementation of forward propagation\n",
    "\n",
    "> Create forward propagation of a three-layer neural network . In the explanation below, the number of nodes is 400 for the first layer and 200 for the second layer, but you can change it."
   ]
  },
  {
   "attachments": {},
   "cell_type": "markdown",
   "metadata": {},
   "source": [
    "Sample Input ($X$)\n",
    "\n",
    "> feature vector (batch_size, n_features)"
   ]
  },
  {
   "cell_type": "code",
   "execution_count": 424,
   "metadata": {},
   "outputs": [
    {
     "data": {
      "text/plain": [
       "array([[1, 2, 3],\n",
       "       [4, 5, 6],\n",
       "       [7, 8, 9]])"
      ]
     },
     "execution_count": 424,
     "metadata": {},
     "output_type": "execute_result"
    }
   ],
   "source": [
    "X = np.array([\n",
    "    [1,2,3],\n",
    "    [4,5,6],\n",
    "    [7,8,9]\n",
    "])\n",
    "X"
   ]
  },
  {
   "attachments": {},
   "cell_type": "markdown",
   "metadata": {},
   "source": [
    "### Hyper params for our (sample) network"
   ]
  },
  {
   "cell_type": "code",
   "execution_count": 425,
   "metadata": {},
   "outputs": [],
   "source": [
    "batch_size = X.shape[0] # batch size\n",
    "n_features = X.shape[1] # number of features of input\n",
    "n_nodes1 = 2 # number of nodes in the first layer\n",
    "n_nodes2 = 3 # number of nodes in the second layer\n",
    "n_output = 2 # number of output classes (number of nodes in the 3rd layer)\n",
    "sigma = 1 # Gaussian standard deviation"
   ]
  },
  {
   "attachments": {},
   "cell_type": "markdown",
   "metadata": {},
   "source": [
    "### Initial Weight and Biases \n",
    "\n",
    "($W_{1,2,3}$ and $B_{1,2,3}$)\n",
    "\n",
    "Initial weights here are rounded for smoother numbers "
   ]
  },
  {
   "attachments": {},
   "cell_type": "markdown",
   "metadata": {},
   "source": [
    "$W_1$ : 1st layer weight (n_features, n_nodes1)"
   ]
  },
  {
   "cell_type": "code",
   "execution_count": 426,
   "metadata": {},
   "outputs": [
    {
     "data": {
      "text/plain": [
       "array([[ 0.3,  1.5],\n",
       "       [-0.2,  0.3],\n",
       "       [-0.9, -2.6]])"
      ]
     },
     "execution_count": 426,
     "metadata": {},
     "output_type": "execute_result"
    }
   ],
   "source": [
    "W1 = initialize_weights(n_features, n_nodes1, sigma, n_round = 1)\n",
    "W1"
   ]
  },
  {
   "attachments": {},
   "cell_type": "markdown",
   "metadata": {},
   "source": [
    "$B_1$ : 1st layer bias (n_nodes1,)"
   ]
  },
  {
   "cell_type": "code",
   "execution_count": 427,
   "metadata": {},
   "outputs": [
    {
     "data": {
      "text/plain": [
       "array([0.7, 0.9])"
      ]
     },
     "execution_count": 427,
     "metadata": {},
     "output_type": "execute_result"
    }
   ],
   "source": [
    "B1 = initialize_bias(n_nodes1, sigma, n_round = 1)\n",
    "B1"
   ]
  },
  {
   "attachments": {},
   "cell_type": "markdown",
   "metadata": {},
   "source": [
    "$W_2$ : 2nd layer weight (n_nodes1, n_nodes2)\n",
    "\n"
   ]
  },
  {
   "cell_type": "code",
   "execution_count": 428,
   "metadata": {},
   "outputs": [
    {
     "data": {
      "text/plain": [
       "array([[-0.7,  2.3, -1.5],\n",
       "       [ 0. , -0.2,  1.5]])"
      ]
     },
     "execution_count": 428,
     "metadata": {},
     "output_type": "execute_result"
    }
   ],
   "source": [
    "W2 = initialize_weights(n_nodes1, n_nodes2, sigma, n_round = 1)\n",
    "W2"
   ]
  },
  {
   "attachments": {},
   "cell_type": "markdown",
   "metadata": {},
   "source": [
    "$B_2$ : 2nd layer bias (n_nodes2,)\n",
    "\n"
   ]
  },
  {
   "cell_type": "code",
   "execution_count": 429,
   "metadata": {},
   "outputs": [
    {
     "data": {
      "text/plain": [
       "array([1.5, 0.2, 0.4])"
      ]
     },
     "execution_count": 429,
     "metadata": {},
     "output_type": "execute_result"
    }
   ],
   "source": [
    "B2 = initialize_bias(n_nodes2, sigma, n_round = 1)\n",
    "B2"
   ]
  },
  {
   "attachments": {},
   "cell_type": "markdown",
   "metadata": {},
   "source": [
    "$W_3$ : 3rd layer weight (n_nodes2, n_output)\n",
    "\n"
   ]
  },
  {
   "cell_type": "code",
   "execution_count": 430,
   "metadata": {},
   "outputs": [
    {
     "data": {
      "text/plain": [
       "array([[-0.9, -2. ],\n",
       "       [-0.3,  0.2],\n",
       "       [ 1.2,  1.2]])"
      ]
     },
     "execution_count": 430,
     "metadata": {},
     "output_type": "execute_result"
    }
   ],
   "source": [
    "W3 = initialize_weights(n_nodes2, n_output, sigma, n_round = 1)\n",
    "W3"
   ]
  },
  {
   "attachments": {},
   "cell_type": "markdown",
   "metadata": {},
   "source": [
    "$B_3$ : 3rd layer bias (n_output,)\n",
    "\n"
   ]
  },
  {
   "cell_type": "code",
   "execution_count": 431,
   "metadata": {},
   "outputs": [
    {
     "data": {
      "text/plain": [
       "array([-0.4, -0.3])"
      ]
     },
     "execution_count": 431,
     "metadata": {},
     "output_type": "execute_result"
    }
   ],
   "source": [
    "B3 = initialize_bias(n_output, sigma, n_round = 1)\n",
    "B3"
   ]
  },
  {
   "attachments": {},
   "cell_type": "markdown",
   "metadata": {},
   "source": [
    "### Latex helper functions\n",
    "\n",
    "**Why latex?**\n",
    "\n",
    "Cause I hope you (as my readers) can more easily follow the formula and how they are calculated"
   ]
  },
  {
   "cell_type": "code",
   "execution_count": 432,
   "metadata": {},
   "outputs": [],
   "source": [
    "from IPython.display import Latex\n",
    "\n",
    "def showLatexEquation(equation_string):\n",
    "    '''\n",
    "        Wrap a latex equation string between <align> tag and display it as Latex\n",
    "    '''\n",
    "    latex_string = '\\n'.join((\n",
    "        r'\\begin{align*}',\n",
    "        equation_string,\n",
    "        r'\\end{align*}'\n",
    "    ))\n",
    "    return display(Latex(latex_string))"
   ]
  },
  {
   "cell_type": "code",
   "execution_count": 433,
   "metadata": {},
   "outputs": [],
   "source": [
    "def format_str(nd_array: np.ndarray):\n",
    "    '''\n",
    "        convert numpy array to latex compatible string format\n",
    "    '''\n",
    "    formatted_array = np.array2string(nd_array, separator=' & ').replace(\"&\\n\", r\"\\\\\")\n",
    "    formatted_array = '\\n'.join((\n",
    "        '\\n',\n",
    "        r'\\begin{matrix}',  \n",
    "        f'{formatted_array}',\n",
    "        r'\\end{matrix}',\n",
    "        '\\n',\n",
    "    ))\n",
    "    return formatted_array"
   ]
  },
  {
   "attachments": {},
   "cell_type": "markdown",
   "metadata": {},
   "source": [
    "### First Layer"
   ]
  },
  {
   "attachments": {},
   "cell_type": "markdown",
   "metadata": {},
   "source": [
    "$A_1$ : layer 1 pre-activation (batch_size, n_nodes1)"
   ]
  },
  {
   "cell_type": "code",
   "execution_count": 434,
   "metadata": {},
   "outputs": [
    {
     "data": {
      "text/latex": [
       "\\begin{align*}\n",
       "A_1 = X \\cdot W_1 + B_1 = \n",
       "\n",
       "\\begin{matrix}\n",
       "[[1 & 2 & 3] \\\\ [4 & 5 & 6] \\\\ [7 & 8 & 9]]\n",
       "\\end{matrix}\n",
       "\n",
       "  \\times \n",
       "\n",
       "\\begin{matrix}\n",
       "[[ 0.3 &  1.5] \\\\ [-0.2 &  0.3] \\\\ [-0.9 & -2.6]]\n",
       "\\end{matrix}\n",
       "\n",
       "  + B_1\n",
       "\\end{align*}"
      ],
      "text/plain": [
       "<IPython.core.display.Latex object>"
      ]
     },
     "metadata": {},
     "output_type": "display_data"
    },
    {
     "data": {
      "text/latex": [
       "\\begin{align*}\n",
       "= \n",
       "\n",
       "\\begin{matrix}\n",
       "[[ -2.8 &  -5.7] \\\\ [ -5.2 &  -8.1] \\\\ [ -7.6 & -10.5]]\n",
       "\\end{matrix}\n",
       "\n",
       "  + \n",
       "\n",
       "\\begin{matrix}\n",
       "[0.7 & 0.9]\n",
       "\\end{matrix}\n",
       "\n",
       "= \n",
       "\n",
       "\\begin{matrix}\n",
       "[[-2.1 & -4.8] \\\\ [-4.5 & -7.2] \\\\ [-6.9 & -9.6]]\n",
       "\\end{matrix}\n",
       "\n",
       "\n",
       "\\end{align*}"
      ],
      "text/plain": [
       "<IPython.core.display.Latex object>"
      ]
     },
     "metadata": {},
     "output_type": "display_data"
    }
   ],
   "source": [
    "A1 = np.matmul(X, W1) + B1\n",
    "\n",
    "showLatexEquation(\n",
    "    f'A_1 = X \\\\cdot W_1 + B_1 '\n",
    "    f'= {format_str(X)}  \\\\times {format_str(W1)}  + B_1'\n",
    ")\n",
    "showLatexEquation(\n",
    "    f'= {format_str(np.matmul(X, W1))}  + {format_str(B1)}'\n",
    "    f'= {format_str(A1)}'\n",
    ")"
   ]
  },
  {
   "attachments": {},
   "cell_type": "markdown",
   "metadata": {},
   "source": [
    "\n",
    "**NOTE**\n",
    "\n",
    "About: \n",
    "$$\n",
    "    A = W \\cdot X + B\n",
    "$$\n",
    "1. The plus ($+$) notation between $X \\cdot W$ and $B$ is not matrix addition\n",
    "2. Because if you notice, $X \\cdot W$ has shape (batch_size ,n_nodes) and $B$ has shape (n_nodes,)\n",
    "3. Which means a matrix addition would be invalid\n",
    "4. This is actually more of a convenient notation of a `broadcasted addition` in `numpy`"
   ]
  },
  {
   "attachments": {},
   "cell_type": "markdown",
   "metadata": {},
   "source": [
    "**Activation functions**"
   ]
  },
  {
   "attachments": {},
   "cell_type": "markdown",
   "metadata": {},
   "source": [
    "**NOTE**\n",
    "\n",
    "- For demonstration purposes well use identify function for inner layers' activation as to not make the numbers become too complex\n",
    "- Softmax is used for final layer\n",
    "- I'll implement Tanh/Sigmoid later"
   ]
  },
  {
   "cell_type": "code",
   "execution_count": 435,
   "metadata": {},
   "outputs": [],
   "source": [
    "def identify_func(x): return x\n",
    "def softmax(X):\n",
    "    return np.exp(X) / np.sum(np.exp(X), axis = 1).reshape(-1,1)"
   ]
  },
  {
   "attachments": {},
   "cell_type": "markdown",
   "metadata": {},
   "source": [
    "$Z_1$: layer 1 output (batch_size, n_nodes1)"
   ]
  },
  {
   "cell_type": "code",
   "execution_count": 436,
   "metadata": {},
   "outputs": [
    {
     "data": {
      "text/latex": [
       "\\begin{align*}\n",
       "Z_1 = f_1(A_1) = id(A_1) = \n",
       "\n",
       "\\begin{matrix}\n",
       "[[-2.1 & -4.8] \\\\ [-4.5 & -7.2] \\\\ [-6.9 & -9.6]]\n",
       "\\end{matrix}\n",
       "\n",
       "\n",
       "\\end{align*}"
      ],
      "text/plain": [
       "<IPython.core.display.Latex object>"
      ]
     },
     "metadata": {},
     "output_type": "display_data"
    }
   ],
   "source": [
    "activation1 = identify_func\n",
    "Z1 = activation1(A1)\n",
    "showLatexEquation(\n",
    "    f'Z_1 = f_1(A_1) = id(A_1) '\n",
    "    f'= {format_str(Z1)}'\n",
    ")"
   ]
  },
  {
   "attachments": {},
   "cell_type": "markdown",
   "metadata": {},
   "source": [
    "### Second layer\n",
    "> Similarly"
   ]
  },
  {
   "attachments": {},
   "cell_type": "markdown",
   "metadata": {},
   "source": [
    "$A_2$ : layer 2 pre-activation (batch_size, n_nodes2)"
   ]
  },
  {
   "cell_type": "code",
   "execution_count": 437,
   "metadata": {},
   "outputs": [
    {
     "data": {
      "text/latex": [
       "\\begin{align*}\n",
       "A_2 = Z_1 \\cdot W_2 + B_2 = \n",
       "\n",
       "\\begin{matrix}\n",
       "[[-2.1 & -4.8] \\\\ [-4.5 & -7.2] \\\\ [-6.9 & -9.6]]\n",
       "\\end{matrix}\n",
       "\n",
       "  \\times \n",
       "\n",
       "\\begin{matrix}\n",
       "[[-0.7 &  2.3 & -1.5] \\\\ [ 0.  & -0.2 &  1.5]]\n",
       "\\end{matrix}\n",
       "\n",
       "  + B_2\n",
       "\\end{align*}"
      ],
      "text/plain": [
       "<IPython.core.display.Latex object>"
      ]
     },
     "metadata": {},
     "output_type": "display_data"
    },
    {
     "data": {
      "text/latex": [
       "\\begin{align*}\n",
       "= \n",
       "\n",
       "\\begin{matrix}\n",
       "[[  1.47 &  -3.87 &  -4.05] \\\\ [  3.15 &  -8.91 &  -4.05] \\\\ [  4.83 & -13.95 &  -4.05]]\n",
       "\\end{matrix}\n",
       "\n",
       "  + \n",
       "\n",
       "\\begin{matrix}\n",
       "[1.5 & 0.2 & 0.4]\n",
       "\\end{matrix}\n",
       "\n",
       "= \n",
       "\n",
       "\\begin{matrix}\n",
       "[[  2.97 &  -3.67 &  -3.65] \\\\ [  4.65 &  -8.71 &  -3.65] \\\\ [  6.33 & -13.75 &  -3.65]]\n",
       "\\end{matrix}\n",
       "\n",
       "\n",
       "\\end{align*}"
      ],
      "text/plain": [
       "<IPython.core.display.Latex object>"
      ]
     },
     "metadata": {},
     "output_type": "display_data"
    }
   ],
   "source": [
    "A2 = np.matmul(Z1, W2) + B2\n",
    "\n",
    "showLatexEquation(\n",
    "    f'A_2 = Z_1 \\\\cdot W_2 + B_2 '\n",
    "    f'= {format_str(Z1)}  \\\\times {format_str(W2)}  + B_2'\n",
    ")\n",
    "\n",
    "showLatexEquation(\n",
    "    f'= {format_str(np.matmul(Z1, W2))}  + {format_str(B2)}'\n",
    "    f'= {format_str(A2)}'\n",
    ")"
   ]
  },
  {
   "attachments": {},
   "cell_type": "markdown",
   "metadata": {},
   "source": [
    "$Z_2$: layer 2 output (batch_size, n_nodes2)\n",
    "\n"
   ]
  },
  {
   "cell_type": "code",
   "execution_count": 438,
   "metadata": {},
   "outputs": [
    {
     "data": {
      "text/latex": [
       "\\begin{align*}\n",
       "Z_2 = id(A_2) = \n",
       "\n",
       "\\begin{matrix}\n",
       "[[  2.97 &  -3.67 &  -3.65] \\\\ [  4.65 &  -8.71 &  -3.65] \\\\ [  6.33 & -13.75 &  -3.65]]\n",
       "\\end{matrix}\n",
       "\n",
       "\n",
       "\\end{align*}"
      ],
      "text/plain": [
       "<IPython.core.display.Latex object>"
      ]
     },
     "metadata": {},
     "output_type": "display_data"
    }
   ],
   "source": [
    "Z2 = identify_func(A2)\n",
    "showLatexEquation(f'Z_2 = id(A_2) = {format_str(Z2)}')"
   ]
  },
  {
   "attachments": {},
   "cell_type": "markdown",
   "metadata": {},
   "source": [
    "### Third layer\n",
    "> Last layer"
   ]
  },
  {
   "attachments": {},
   "cell_type": "markdown",
   "metadata": {},
   "source": [
    "$A_3$ : Layer 3 pre-activation (batch_size, n_output)"
   ]
  },
  {
   "cell_type": "code",
   "execution_count": 439,
   "metadata": {},
   "outputs": [
    {
     "data": {
      "text/latex": [
       "\\begin{align*}\n",
       "A_3 = Z_2 \\cdot W_3 + B_3 = \n",
       "\n",
       "\\begin{matrix}\n",
       "[[  2.97 &  -3.67 &  -3.65] \\\\ [  4.65 &  -8.71 &  -3.65] \\\\ [  6.33 & -13.75 &  -3.65]]\n",
       "\\end{matrix}\n",
       "\n",
       "  \\times \n",
       "\n",
       "\\begin{matrix}\n",
       "[[-0.9 & -2. ] \\\\ [-0.3 &  0.2] \\\\ [ 1.2 &  1.2]]\n",
       "\\end{matrix}\n",
       "\n",
       "  + B_3\n",
       "\\end{align*}"
      ],
      "text/plain": [
       "<IPython.core.display.Latex object>"
      ]
     },
     "metadata": {},
     "output_type": "display_data"
    },
    {
     "data": {
      "text/latex": [
       "\\begin{align*}\n",
       "= \n",
       "\n",
       "\\begin{matrix}\n",
       "[[ -5.952 & -11.054] \\\\ [ -5.952 & -15.422] \\\\ [ -5.952 & -19.79 ]]\n",
       "\\end{matrix}\n",
       "\n",
       "  + \n",
       "\n",
       "\\begin{matrix}\n",
       "[-0.4 & -0.3]\n",
       "\\end{matrix}\n",
       "\n",
       "= \n",
       "\n",
       "\\begin{matrix}\n",
       "[[ -6.352 & -11.354] \\\\ [ -6.352 & -15.722] \\\\ [ -6.352 & -20.09 ]]\n",
       "\\end{matrix}\n",
       "\n",
       "\n",
       "\\end{align*}"
      ],
      "text/plain": [
       "<IPython.core.display.Latex object>"
      ]
     },
     "metadata": {},
     "output_type": "display_data"
    }
   ],
   "source": [
    "A3 = np.matmul(Z2, W3) + B3\n",
    "\n",
    "showLatexEquation(\n",
    "    f'A_3 = Z_2 \\\\cdot W_3 + B_3 '\n",
    "    f'= {format_str(Z2)}  \\\\times {format_str(W3)}  + B_3'\n",
    ")\n",
    "showLatexEquation(\n",
    "    f'= {format_str(np.matmul(Z2, W3))}  + {format_str(B3)}'\n",
    "    f'= {format_str(A3)}'\n",
    ")"
   ]
  },
  {
   "attachments": {},
   "cell_type": "markdown",
   "metadata": {},
   "source": [
    "Gotta soft max here to turn it into 'probability'\n",
    "\n",
    "> so that we can test our loss (next part)"
   ]
  },
  {
   "attachments": {},
   "cell_type": "markdown",
   "metadata": {},
   "source": [
    "$Z_3$ layer 3 output (batch_size, n_output)\n",
    "\n",
    "$Z_3$ is the representation of probabilities for each label"
   ]
  },
  {
   "cell_type": "code",
   "execution_count": 440,
   "metadata": {},
   "outputs": [
    {
     "data": {
      "text/latex": [
       "\\begin{align*}\n",
       "Z_3 = softmax(A_3) = \n",
       "\n",
       "\\begin{matrix}\n",
       "[[9.93320432e-01 & 6.67956792e-03] \\\\ [9.99914764e-01 & 8.52361226e-05] \\\\ [9.99998919e-01 & 1.08059247e-06]]\n",
       "\\end{matrix}\n",
       "\n",
       "\n",
       "\\end{align*}"
      ],
      "text/plain": [
       "<IPython.core.display.Latex object>"
      ]
     },
     "metadata": {},
     "output_type": "display_data"
    }
   ],
   "source": [
    "Z3 = softmax(A3)\n",
    "showLatexEquation(f'Z_3 = softmax(A_3) = {format_str(Z3)}')"
   ]
  },
  {
   "cell_type": "code",
   "execution_count": 441,
   "metadata": {},
   "outputs": [
    {
     "data": {
      "text/plain": [
       "array([1., 1., 1.])"
      ]
     },
     "execution_count": 441,
     "metadata": {},
     "output_type": "execute_result"
    }
   ],
   "source": [
    "# quick check\n",
    "Z3.sum(axis=1) # sums to 1 -> valid!"
   ]
  },
  {
   "attachments": {},
   "cell_type": "markdown",
   "metadata": {},
   "source": [
    "## [Problem 3] \n",
    "Implementation of cross-entropy error\n",
    "\n",
    "> Create an objective function (loss function)."
   ]
  },
  {
   "attachments": {},
   "cell_type": "markdown",
   "metadata": {},
   "source": [
    "### Cross-entropy error\n",
    "The cross-entropy error $L$, the objective function for multiclass classification, is the following formula:\n",
    "\n",
    "$$\n",
    "L = - \\frac{1}{n_b} \\sum^{n_b}_{i} \\sum^{n_c}_{j} y_{ij} \\log(z_{3_{ij}})\n",
    "$$\n",
    "\n",
    "Where\n",
    "\n",
    "$n_{b}$ : batch size (batch_size)\n",
    "\n",
    "$n_{c}$ : number of classes (n_output)"
   ]
  },
  {
   "cell_type": "code",
   "execution_count": 442,
   "metadata": {},
   "outputs": [],
   "source": [
    "def cross_entropy_error(Z,y):\n",
    "    return (np.log(Z) * y).sum() / (- len(Z))"
   ]
  },
  {
   "attachments": {},
   "cell_type": "markdown",
   "metadata": {},
   "source": [
    "### Test\n",
    "> with random generated one-hots"
   ]
  },
  {
   "cell_type": "code",
   "execution_count": 443,
   "metadata": {},
   "outputs": [
    {
     "data": {
      "text/plain": [
       "array([[1., 0.],\n",
       "       [0., 1.],\n",
       "       [0., 1.]])"
      ]
     },
     "execution_count": 443,
     "metadata": {},
     "output_type": "execute_result"
    }
   ],
   "source": [
    "'''\n",
    "    Y is label vector, one-hot format\n",
    "    We create a random_one_hots by making an identify matrix and pick random rows from it\n",
    "'''\n",
    "random_one_hots = np.eye(n_output)[np.random.randint(0, n_output, batch_size)]\n",
    "Y = random_one_hots\n",
    "Y "
   ]
  },
  {
   "cell_type": "code",
   "execution_count": 444,
   "metadata": {},
   "outputs": [
    {
     "name": "stdout",
     "output_type": "stream",
     "text": [
      "Cross-Entropy: \n"
     ]
    },
    {
     "data": {
      "text/plain": [
       "7.704929432141037"
      ]
     },
     "execution_count": 444,
     "metadata": {},
     "output_type": "execute_result"
    }
   ],
   "source": [
    "print('Cross-Entropy: ')\n",
    "cross_entropy_error(Z3, Y)"
   ]
  },
  {
   "cell_type": "code",
   "execution_count": 445,
   "metadata": {},
   "outputs": [
    {
     "name": "stdout",
     "output_type": "stream",
     "text": [
      "sklearn result:  7.704929432141037\n"
     ]
    }
   ],
   "source": [
    "# validate our code with sklearn's implementation\n",
    "from sklearn.metrics import log_loss\n",
    "print('sklearn result: ', log_loss(Y, Z3, normalize=True))"
   ]
  },
  {
   "attachments": {},
   "cell_type": "markdown",
   "metadata": {},
   "source": [
    "## [Problem 4] \n",
    "Implementation of back propagation\n",
    "\n",
    "Weight and bias update formula:\n",
    "$$\n",
    "    W^{'}_i = W_i - \\alpha \\frac{\\partial L}{\\partial W_i} \\\\\n",
    "    B^{'}_i = B_i - \\alpha \\frac{\\partial L}{\\partial B_i}\n",
    "$$\n",
    "\n",
    "Where \n",
    "\n",
    "$\\frac{\\partial L}{\\partial W_i}$ : Gradient of loss $L$ with respect to $W_i$\n",
    "\n",
    "$\\frac{\\partial L}{\\partial B_i}$ : Gradient of loss $L$ with respect to $B_i$"
   ]
  },
  {
   "attachments": {},
   "cell_type": "markdown",
   "metadata": {},
   "source": [
    "**Let's walk together through the gradient calculation process of the 3 layers in our network**\n",
    "\n",
    "> since it's backpropagation (gradient decent), we'll be walking from the last layer to the first layer"
   ]
  },
  {
   "attachments": {},
   "cell_type": "markdown",
   "metadata": {},
   "source": [
    "### Third Layer"
   ]
  },
  {
   "attachments": {},
   "cell_type": "markdown",
   "metadata": {},
   "source": [
    "<hr />\n"
   ]
  },
  {
   "attachments": {},
   "cell_type": "markdown",
   "metadata": {},
   "source": [
    "\n",
    "Gradient of loss $L$ with respect to $A_3$ (batch_size, n_output)\n",
    "$$\n",
    "    \\frac{\\partial L}{\\partial A_3}\n",
    "    = \n",
    "    \\frac{1}{n_b} (Z_3 - Y)\n",
    "$$\n",
    "\n",
    "where $n_b$ is batch size"
   ]
  },
  {
   "cell_type": "code",
   "execution_count": 446,
   "metadata": {},
   "outputs": [
    {
     "data": {
      "text/latex": [
       "\\begin{align*}\n",
       "\\frac{\\partial L}{\\partial A_3} = \\frac{1}3 (\n",
       "\n",
       "\\begin{matrix}\n",
       "[[9.93320432e-01 & 6.67956792e-03] \\\\ [9.99914764e-01 & 8.52361226e-05] \\\\ [9.99998919e-01 & 1.08059247e-06]]\n",
       "\\end{matrix}\n",
       "\n",
       " - \n",
       "\n",
       "\\begin{matrix}\n",
       "[[1. & 0.] \\\\ [0. & 1.] \\\\ [0. & 1.]]\n",
       "\\end{matrix}\n",
       "\n",
       ")\n",
       "\\end{align*}"
      ],
      "text/plain": [
       "<IPython.core.display.Latex object>"
      ]
     },
     "metadata": {},
     "output_type": "display_data"
    },
    {
     "data": {
      "text/latex": [
       "\\begin{align*}\n",
       " = \n",
       "\n",
       "\\begin{matrix}\n",
       "[[-0.00222652 &  0.00222652] \\\\ [ 0.33330492 & -0.33330492] \\\\ [ 0.33333297 & -0.33333297]]\n",
       "\\end{matrix}\n",
       "\n",
       "\n",
       "\\end{align*}"
      ],
      "text/plain": [
       "<IPython.core.display.Latex object>"
      ]
     },
     "metadata": {},
     "output_type": "display_data"
    }
   ],
   "source": [
    "nb = batch_size\n",
    "grad_L_A3 = (Z3 - Y)/ nb\n",
    "\n",
    "showLatexEquation(\n",
    "    r'\\frac{\\partial L}{\\partial A_3} = '\n",
    "    fr'\\frac{{1}}{nb} ({format_str(Z3)} - {format_str(Y)})'\n",
    ")\n",
    "\n",
    "showLatexEquation(\n",
    "    f' = {format_str(grad_L_A3)}'\n",
    ")"
   ]
  },
  {
   "attachments": {},
   "cell_type": "markdown",
   "metadata": {},
   "source": [
    "<hr />\n"
   ]
  },
  {
   "attachments": {},
   "cell_type": "markdown",
   "metadata": {},
   "source": [
    "\n",
    "Gradient of loss $L$ with respect to $B_3$ (n_output,)\n",
    "$$\n",
    "    \\frac{\\partial L}{\\partial B_3}\n",
    "    = \\sum^{n_b}_{j} \\frac{\\partial L}{\\partial A_{3_{\\_j}}}    \n",
    "$$ \n",
    "Where \n",
    "$\\frac{\\partial L}{\\partial A_{3_j}}$ : Gradient of loss $L$ with respect to $A_3$ of j-th sample (n_output,)\n",
    "\n",
    "> This formula is basically equivalent to sum over axis 0 (over rows) "
   ]
  },
  {
   "cell_type": "code",
   "execution_count": 447,
   "metadata": {},
   "outputs": [
    {
     "data": {
      "text/latex": [
       "\\begin{align*}\n",
       "\\frac{\\partial L}{\\partial B_3} = \n",
       "\n",
       "\\begin{matrix}\n",
       "[ 0.66441137 & -0.66441137]\n",
       "\\end{matrix}\n",
       "\n",
       "\n",
       "\\end{align*}"
      ],
      "text/plain": [
       "<IPython.core.display.Latex object>"
      ]
     },
     "metadata": {},
     "output_type": "display_data"
    }
   ],
   "source": [
    "grad_L_B3 = np.sum(grad_L_A3, axis=0)\n",
    "showLatexEquation(\n",
    "    r'\\frac{\\partial L}{\\partial B_3} = '\n",
    "    f'{format_str(grad_L_B3)}'\n",
    ")"
   ]
  },
  {
   "attachments": {},
   "cell_type": "markdown",
   "metadata": {},
   "source": [
    "<hr/>"
   ]
  },
  {
   "attachments": {},
   "cell_type": "markdown",
   "metadata": {},
   "source": [
    "Gradient of loss $L$ with respect to $W_3$ (n_nodes2, n_output)\n",
    "$$\n",
    "\\frac{\\partial L}{\\partial W_3}\n",
    "=\n",
    "Z^T_2 \\cdot \\frac{\\partial L}{\\partial A_3}\n",
    "$$"
   ]
  },
  {
   "cell_type": "code",
   "execution_count": 448,
   "metadata": {},
   "outputs": [
    {
     "data": {
      "text/latex": [
       "\\begin{align*}\n",
       "\\frac{\\partial L}{\\partial W_3} =\n",
       "\n",
       "\\begin{matrix}\n",
       "[[  2.97 &  -3.67 &  -3.65] \\\\ [  4.65 &  -8.71 &  -3.65] \\\\ [  6.33 & -13.75 &  -3.65]]\n",
       "\\end{matrix}\n",
       "\n",
       "^T \\cdot \\frac{\\partial L}{\\partial A_3}\n",
       "\\end{align*}"
      ],
      "text/plain": [
       "<IPython.core.display.Latex object>"
      ]
     },
     "metadata": {},
     "output_type": "display_data"
    },
    {
     "data": {
      "text/latex": [
       "\\begin{align*}\n",
       "= \n",
       "\n",
       "\\begin{matrix}\n",
       "[[  2.97 &   4.65 &   6.33] \\\\ [ -3.67 &  -8.71 & -13.75] \\\\ [ -3.65 &  -3.65 &  -3.65]]\n",
       "\\end{matrix}\n",
       "\n",
       " \\cdot \n",
       "\n",
       "\\begin{matrix}\n",
       "[[-0.00222652 &  0.00222652] \\\\ [ 0.33330492 & -0.33330492] \\\\ [ 0.33333297 & -0.33333297]]\n",
       "\\end{matrix}\n",
       "\n",
       "\n",
       "\\end{align*}"
      ],
      "text/plain": [
       "<IPython.core.display.Latex object>"
      ]
     },
     "metadata": {},
     "output_type": "display_data"
    },
    {
     "data": {
      "text/latex": [
       "\\begin{align*}\n",
       "= \n",
       "\n",
       "\\begin{matrix}\n",
       "[[ 3.65325283 & -3.65325283] \\\\ [-7.47824291 &  7.47824291] \\\\ [-2.42510151 &  2.42510151]]\n",
       "\\end{matrix}\n",
       "\n",
       "\n",
       "\\end{align*}"
      ],
      "text/plain": [
       "<IPython.core.display.Latex object>"
      ]
     },
     "metadata": {},
     "output_type": "display_data"
    }
   ],
   "source": [
    "grad_L_W3 = np.matmul(Z2.T, grad_L_A3)\n",
    "\n",
    "showLatexEquation(\n",
    "    r'\\frac{\\partial L}{\\partial W_3} ='\n",
    "    f'{format_str(Z2)}^T \\\\cdot '\n",
    "    r'\\frac{\\partial L}{\\partial A_3}'\n",
    ")\n",
    "\n",
    "showLatexEquation(\n",
    "    f'= {format_str(Z2.T)} \\\\cdot {format_str(grad_L_A3)}'\n",
    ")\n",
    "\n",
    "showLatexEquation(\n",
    "    f'= {format_str(grad_L_W3)}'\n",
    ")"
   ]
  },
  {
   "attachments": {},
   "cell_type": "markdown",
   "metadata": {},
   "source": [
    "<hr/> "
   ]
  },
  {
   "attachments": {},
   "cell_type": "markdown",
   "metadata": {},
   "source": [
    "Gradient of loss $L$ with respect to $Z_2$ (batch_size, n_nodes2)\n",
    "\n",
    "$$\n",
    "\\frac{\\partial L}{\\partial Z_2}\n",
    "=\n",
    "\\frac{\\partial L}{\\partial A_3} \\cdot W^T_3\n",
    "$$"
   ]
  },
  {
   "cell_type": "code",
   "execution_count": 449,
   "metadata": {},
   "outputs": [
    {
     "data": {
      "text/latex": [
       "\\begin{align*}\n",
       "\\frac{\\partial L}{\\partial Z_2} =\\frac{\\partial L}{\\partial A_3} \\cdot \n",
       "\n",
       "\\begin{matrix}\n",
       "[[-0.9 & -2. ] \\\\ [-0.3 &  0.2] \\\\ [ 1.2 &  1.2]]\n",
       "\\end{matrix}\n",
       "\n",
       "^T\n",
       "\\end{align*}"
      ],
      "text/plain": [
       "<IPython.core.display.Latex object>"
      ]
     },
     "metadata": {},
     "output_type": "display_data"
    },
    {
     "data": {
      "text/latex": [
       "\\begin{align*}\n",
       "= \n",
       "\n",
       "\\begin{matrix}\n",
       "[[-0.00222652 &  0.00222652] \\\\ [ 0.33330492 & -0.33330492] \\\\ [ 0.33333297 & -0.33333297]]\n",
       "\\end{matrix}\n",
       "\n",
       " \\cdot \n",
       "\n",
       "\\begin{matrix}\n",
       "[[-0.9 & -0.3 &  1.2] \\\\ [-2.  &  0.2 &  1.2]]\n",
       "\\end{matrix}\n",
       "\n",
       "\n",
       "\\end{align*}"
      ],
      "text/plain": [
       "<IPython.core.display.Latex object>"
      ]
     },
     "metadata": {},
     "output_type": "display_data"
    },
    {
     "data": {
      "text/latex": [
       "\\begin{align*}\n",
       "= \n",
       "\n",
       "\\begin{matrix}\n",
       "[[-2.44917490e-03 &  1.11326132e-03 &  3.89324007e-17] \\\\ [ 3.66635413e-01 & -1.66652461e-01 &  4.81084027e-17] \\\\ [ 3.66666270e-01 & -1.66666487e-01 & -1.85037331e-17]]\n",
       "\\end{matrix}\n",
       "\n",
       "\n",
       "\\end{align*}"
      ],
      "text/plain": [
       "<IPython.core.display.Latex object>"
      ]
     },
     "metadata": {},
     "output_type": "display_data"
    }
   ],
   "source": [
    "grad_L_Z2 = np.matmul(grad_L_A3, W3.T)\n",
    "\n",
    "showLatexEquation(\n",
    "    r'\\frac{\\partial L}{\\partial Z_2} ='\n",
    "    r'\\frac{\\partial L}{\\partial A_3} \\cdot '\n",
    "    f'{format_str(W3)}^T'\n",
    ")\n",
    "\n",
    "showLatexEquation(\n",
    "    f'= {format_str(grad_L_A3)} \\\\cdot {format_str(W3.T)}'\n",
    ")\n",
    "\n",
    "showLatexEquation(\n",
    "    f'= {format_str(grad_L_Z2)}'\n",
    ")"
   ]
  },
  {
   "attachments": {},
   "cell_type": "markdown",
   "metadata": {},
   "source": [
    "### Second Layer"
   ]
  },
  {
   "attachments": {},
   "cell_type": "markdown",
   "metadata": {},
   "source": [
    "<hr />\n"
   ]
  },
  {
   "attachments": {},
   "cell_type": "markdown",
   "metadata": {},
   "source": [
    "Gradient of loss $L$ with respect to $A_2$ (batch_size, n_nodes2)\n",
    "$$\n",
    "\\frac{\\partial L}{\\partial A_2}\n",
    "=\n",
    "\\frac{\\partial L}{\\partial Z_2}\n",
    "\\cdot\n",
    "\\frac{\\partial Z_2}{\\partial A_2}\n",
    "\n",
    "\\text{ (Chain rule)}\n",
    "$$\n",
    "\n",
    "And since in the previous section, we've assumed (for simplicity) that middle layers' activation is identity function: \n",
    "\n",
    "$$\n",
    "Z_2 = id(A_2) = A_2 \n",
    "\\Rightarrow \n",
    "\\frac{\\partial Z_2}{\\partial A_2}\n",
    "= \n",
    "I \\text{ (identify matrix)}\n",
    "$$\n",
    "\n",
    "So\n",
    "\n",
    "$$\n",
    "\\frac{\\partial L}{\\partial A_2}\n",
    "=\n",
    "\\frac{\\partial L}{\\partial Z_2}\n",
    "$$"
   ]
  },
  {
   "attachments": {},
   "cell_type": "markdown",
   "metadata": {},
   "source": [
    "Note:\n",
    "```\n",
    "We'll establish back-propagation for tanh/sigmoid activation functions later\n",
    "```"
   ]
  },
  {
   "cell_type": "code",
   "execution_count": 450,
   "metadata": {},
   "outputs": [
    {
     "data": {
      "text/latex": [
       "\\begin{align*}\n",
       "\\frac{\\partial L}{\\partial A_2}= \n",
       "\n",
       "\\begin{matrix}\n",
       "[[-2.44917490e-03 &  1.11326132e-03 &  3.89324007e-17] \\\\ [ 3.66635413e-01 & -1.66652461e-01 &  4.81084027e-17] \\\\ [ 3.66666270e-01 & -1.66666487e-01 & -1.85037331e-17]]\n",
       "\\end{matrix}\n",
       "\n",
       "\n",
       "\\end{align*}"
      ],
      "text/plain": [
       "<IPython.core.display.Latex object>"
      ]
     },
     "metadata": {},
     "output_type": "display_data"
    }
   ],
   "source": [
    "grad_L_A2 = grad_L_Z2\n",
    "showLatexEquation(\n",
    "    r'\\frac{\\partial L}{\\partial A_2}'\n",
    "    f'= {format_str(grad_L_A2)}'\n",
    ")"
   ]
  },
  {
   "cell_type": "markdown",
   "metadata": {},
   "source": [
    "<hr/>\n"
   ]
  },
  {
   "attachments": {},
   "cell_type": "markdown",
   "metadata": {},
   "source": [
    "Gradient of loss $L$ with respect to $B_2$ (n_nodes2,)\n",
    "\n",
    "> similar to that of $B_3$\n",
    "$$\n",
    "\\frac{\\partial L}{\\partial B_2}\n",
    "=\n",
    "\\sum_j^{n_b}\n",
    "\\frac{\\partial L}{\\partial A_{2_{\\_j}}}\n",
    "$$"
   ]
  },
  {
   "cell_type": "code",
   "execution_count": 451,
   "metadata": {},
   "outputs": [
    {
     "data": {
      "text/latex": [
       "\\begin{align*}\n",
       "\\frac{\\partial L}{\\partial B_2} = \n",
       "\n",
       "\\begin{matrix}\n",
       "[ 7.30852509e-01 & -3.32205686e-01 &  6.85370703e-17]\n",
       "\\end{matrix}\n",
       "\n",
       "\n",
       "\\end{align*}"
      ],
      "text/plain": [
       "<IPython.core.display.Latex object>"
      ]
     },
     "metadata": {},
     "output_type": "display_data"
    }
   ],
   "source": [
    "# Just sum over rows\n",
    "grad_L_B2 = np.sum(grad_L_A2, axis=0)\n",
    "showLatexEquation(\n",
    "    r'\\frac{\\partial L}{\\partial B_2} = '\n",
    "    f'{format_str(grad_L_B2)}'\n",
    ")"
   ]
  },
  {
   "attachments": {},
   "cell_type": "markdown",
   "metadata": {},
   "source": [
    "<hr/>"
   ]
  },
  {
   "attachments": {},
   "cell_type": "markdown",
   "metadata": {},
   "source": [
    "Gradient of loss $L$ with respect to $W_2$ (n_nodes1, n_nodes2)\n",
    "\n",
    "$$\n",
    "\\frac{\\partial L}{\\partial W_2}\n",
    "=\n",
    "Z_1^T \\cdot \\frac{\\partial L}{\\partial A_2}\n",
    "$$"
   ]
  },
  {
   "cell_type": "code",
   "execution_count": 452,
   "metadata": {},
   "outputs": [
    {
     "data": {
      "text/latex": [
       "\\begin{align*}\n",
       "\\frac{\\partial L}{\\partial W_2} =\n",
       "\n",
       "\\begin{matrix}\n",
       "[[-2.1 & -4.8] \\\\ [-4.5 & -7.2] \\\\ [-6.9 & -9.6]]\n",
       "\\end{matrix}\n",
       "\n",
       "^T \\cdot \\frac{\\partial L}{\\partial A_2}\n",
       "\\end{align*}"
      ],
      "text/plain": [
       "<IPython.core.display.Latex object>"
      ]
     },
     "metadata": {},
     "output_type": "display_data"
    },
    {
     "data": {
      "text/latex": [
       "\\begin{align*}\n",
       "= \n",
       "\n",
       "\\begin{matrix}\n",
       "[[-2.1 & -4.5 & -6.9] \\\\ [-4.8 & -7.2 & -9.6]]\n",
       "\\end{matrix}\n",
       "\n",
       " \\cdot \n",
       "\n",
       "\\begin{matrix}\n",
       "[[-2.44917490e-03 &  1.11326132e-03 &  3.89324007e-17] \\\\ [ 3.66635413e-01 & -1.66652461e-01 &  4.81084027e-17] \\\\ [ 3.66666270e-01 & -1.66666487e-01 & -1.85037331e-17]]\n",
       "\\end{matrix}\n",
       "\n",
       "\n",
       "\\end{align*}"
      ],
      "text/plain": [
       "<IPython.core.display.Latex object>"
      ]
     },
     "metadata": {},
     "output_type": "display_data"
    },
    {
     "data": {
      "text/latex": [
       "\\begin{align*}\n",
       "= \n",
       "\n",
       "\\begin{matrix}\n",
       "[[-4.17471336e+00 &  1.89759698e+00 & -1.70570095e-16] \\\\ [-6.14801513e+00 &  2.79455233e+00 & -3.55620185e-16]]\n",
       "\\end{matrix}\n",
       "\n",
       "\n",
       "\\end{align*}"
      ],
      "text/plain": [
       "<IPython.core.display.Latex object>"
      ]
     },
     "metadata": {},
     "output_type": "display_data"
    }
   ],
   "source": [
    "grad_L_W2 = np.matmul(Z1.T, grad_L_A2)\n",
    "\n",
    "showLatexEquation(\n",
    "    r'\\frac{\\partial L}{\\partial W_2} ='\n",
    "    f'{format_str(Z1)}^T \\\\cdot '\n",
    "    r'\\frac{\\partial L}{\\partial A_2}'\n",
    ")\n",
    "\n",
    "showLatexEquation(\n",
    "    f'= {format_str(Z1.T)} \\\\cdot {format_str(grad_L_A2)}'\n",
    ")\n",
    "\n",
    "showLatexEquation(\n",
    "    f'= {format_str(grad_L_W2)}'\n",
    ")\n"
   ]
  },
  {
   "attachments": {},
   "cell_type": "markdown",
   "metadata": {},
   "source": [
    "<hr/>"
   ]
  },
  {
   "attachments": {},
   "cell_type": "markdown",
   "metadata": {},
   "source": [
    "Gradient of loss $L$ with respect to $Z_1$ (batch_size, n_nodes2)\n",
    "\n",
    "$$\n",
    "\\frac{\\partial L}{\\partial Z_1}\n",
    "=\n",
    "\\frac{\\partial L}{\\partial A_2} \\cdot W_2^T\n",
    "$$"
   ]
  },
  {
   "cell_type": "code",
   "execution_count": 453,
   "metadata": {},
   "outputs": [
    {
     "data": {
      "text/latex": [
       "\\begin{align*}\n",
       "\\frac{\\partial L}{\\partial Z_1} =\\frac{\\partial L}{\\partial A_2} \\cdot \n",
       "\n",
       "\\begin{matrix}\n",
       "[[-0.7 &  2.3 & -1.5] \\\\ [ 0.  & -0.2 &  1.5]]\n",
       "\\end{matrix}\n",
       "\n",
       "^T\n",
       "\\end{align*}"
      ],
      "text/plain": [
       "<IPython.core.display.Latex object>"
      ]
     },
     "metadata": {},
     "output_type": "display_data"
    },
    {
     "data": {
      "text/latex": [
       "\\begin{align*}\n",
       "= \n",
       "\n",
       "\\begin{matrix}\n",
       "[[-2.44917490e-03 &  1.11326132e-03 &  3.89324007e-17] \\\\ [ 3.66635413e-01 & -1.66652461e-01 &  4.81084027e-17] \\\\ [ 3.66666270e-01 & -1.66666487e-01 & -1.85037331e-17]]\n",
       "\\end{matrix}\n",
       "\n",
       " \\cdot \n",
       "\n",
       "\\begin{matrix}\n",
       "[[-0.7 &  0. ] \\\\ [ 2.3 & -0.2] \\\\ [-1.5 &  1.5]]\n",
       "\\end{matrix}\n",
       "\n",
       "\n",
       "\\end{align*}"
      ],
      "text/plain": [
       "<IPython.core.display.Latex object>"
      ]
     },
     "metadata": {},
     "output_type": "display_data"
    },
    {
     "data": {
      "text/latex": [
       "\\begin{align*}\n",
       "= \n",
       "\n",
       "\\begin{matrix}\n",
       "[[ 4.27492347e-03 & -2.22652264e-04] \\\\ [-6.39945449e-01 &  3.33304921e-02] \\\\ [-6.39999308e-01 &  3.33332973e-02]]\n",
       "\\end{matrix}\n",
       "\n",
       "\n",
       "\\end{align*}"
      ],
      "text/plain": [
       "<IPython.core.display.Latex object>"
      ]
     },
     "metadata": {},
     "output_type": "display_data"
    }
   ],
   "source": [
    "grad_L_Z1 = np.matmul(grad_L_A2, W2.T)\n",
    "\n",
    "showLatexEquation(\n",
    "    r'\\frac{\\partial L}{\\partial Z_1} ='\n",
    "    r'\\frac{\\partial L}{\\partial A_2} \\cdot '\n",
    "    f'{format_str(W2)}^T'\n",
    ")\n",
    "\n",
    "showLatexEquation(\n",
    "    f'= {format_str(grad_L_A2)} \\\\cdot {format_str(W2.T)}'\n",
    ")\n",
    "\n",
    "showLatexEquation(\n",
    "    f'= {format_str(grad_L_Z1)}'\n",
    ")"
   ]
  },
  {
   "attachments": {},
   "cell_type": "markdown",
   "metadata": {},
   "source": [
    "### First Layer"
   ]
  },
  {
   "attachments": {},
   "cell_type": "markdown",
   "metadata": {},
   "source": [
    "<hr />\n"
   ]
  },
  {
   "attachments": {},
   "cell_type": "markdown",
   "metadata": {},
   "source": [
    "Similar to $A_2$, activation function of first layer is identity function\n",
    "$$\n",
    "\\frac{\\partial L}{\\partial A_1}\n",
    "=\n",
    "\\frac{\\partial L}{\\partial Z_1}\n",
    "$$"
   ]
  },
  {
   "cell_type": "code",
   "execution_count": 454,
   "metadata": {},
   "outputs": [
    {
     "data": {
      "text/latex": [
       "\\begin{align*}\n",
       "\\frac{\\partial L}{\\partial A_1}= \n",
       "\n",
       "\\begin{matrix}\n",
       "[[ 4.27492347e-03 & -2.22652264e-04] \\\\ [-6.39945449e-01 &  3.33304921e-02] \\\\ [-6.39999308e-01 &  3.33332973e-02]]\n",
       "\\end{matrix}\n",
       "\n",
       "\n",
       "\\end{align*}"
      ],
      "text/plain": [
       "<IPython.core.display.Latex object>"
      ]
     },
     "metadata": {},
     "output_type": "display_data"
    }
   ],
   "source": [
    "grad_L_A1 = grad_L_Z1\n",
    "showLatexEquation(\n",
    "    r'\\frac{\\partial L}{\\partial A_1}'\n",
    "    f'= {format_str(grad_L_A1)}'\n",
    ")"
   ]
  },
  {
   "attachments": {},
   "cell_type": "markdown",
   "metadata": {},
   "source": [
    "<hr/>"
   ]
  },
  {
   "attachments": {},
   "cell_type": "markdown",
   "metadata": {},
   "source": [
    "Gradient of loss $L$ with respect to $B_1$ (n_nodes1,)\n",
    "> again, similar to the other $B_j$\n",
    "$$\n",
    "\\frac{\\partial L}{\\partial B_1}\n",
    "\n",
    "= \\sum_j^{n_b} \\frac{\\partial L}{\\partial A_{1_{\\_j}}}\n",
    "$$ "
   ]
  },
  {
   "cell_type": "code",
   "execution_count": 455,
   "metadata": {},
   "outputs": [
    {
     "data": {
      "text/latex": [
       "\\begin{align*}\n",
       "\\frac{\\partial L}{\\partial B_1} = \n",
       "\n",
       "\\begin{matrix}\n",
       "[-1.27566983 &  0.06644114]\n",
       "\\end{matrix}\n",
       "\n",
       "\n",
       "\\end{align*}"
      ],
      "text/plain": [
       "<IPython.core.display.Latex object>"
      ]
     },
     "metadata": {},
     "output_type": "display_data"
    }
   ],
   "source": [
    "# Just sum over rows\n",
    "grad_L_B1 = np.sum(grad_L_A1, axis=0)\n",
    "showLatexEquation(\n",
    "    r'\\frac{\\partial L}{\\partial B_1} = '\n",
    "    f'{format_str(grad_L_B1)}'\n",
    ")"
   ]
  },
  {
   "attachments": {},
   "cell_type": "markdown",
   "metadata": {},
   "source": [
    "<hr/>"
   ]
  },
  {
   "attachments": {},
   "cell_type": "markdown",
   "metadata": {},
   "source": [
    "Gradient of loss $L$ with respect to $W_1$ (n_features, n_nodes1)\n",
    "\n",
    "$$\n",
    "\\frac{\\partial L}{\\partial W_1}\n",
    "=\n",
    "X^T \\cdot\n",
    "\\frac{\\partial L}{\\partial A_1}\n",
    "$$"
   ]
  },
  {
   "cell_type": "code",
   "execution_count": 456,
   "metadata": {},
   "outputs": [
    {
     "data": {
      "text/latex": [
       "\\begin{align*}\n",
       "\\frac{\\partial L}{\\partial W_1} =\n",
       "\n",
       "\\begin{matrix}\n",
       "[[1 & 2 & 3] \\\\ [4 & 5 & 6] \\\\ [7 & 8 & 9]]\n",
       "\\end{matrix}\n",
       "\n",
       "^T \\cdot \\frac{\\partial L}{\\partial A_1}\n",
       "\\end{align*}"
      ],
      "text/plain": [
       "<IPython.core.display.Latex object>"
      ]
     },
     "metadata": {},
     "output_type": "display_data"
    },
    {
     "data": {
      "text/latex": [
       "\\begin{align*}\n",
       "= \n",
       "\n",
       "\\begin{matrix}\n",
       "[[1 & 4 & 7] \\\\ [2 & 5 & 8] \\\\ [3 & 6 & 9]]\n",
       "\\end{matrix}\n",
       "\n",
       " \\cdot \n",
       "\n",
       "\\begin{matrix}\n",
       "[[ 4.27492347e-03 & -2.22652264e-04] \\\\ [-6.39945449e-01 &  3.33304921e-02] \\\\ [-6.39999308e-01 &  3.33332973e-02]]\n",
       "\\end{matrix}\n",
       "\n",
       "\n",
       "\\end{align*}"
      ],
      "text/plain": [
       "<IPython.core.display.Latex object>"
      ]
     },
     "metadata": {},
     "output_type": "display_data"
    },
    {
     "data": {
      "text/latex": [
       "\\begin{align*}\n",
       "= \n",
       "\n",
       "\\begin{matrix}\n",
       "[[-7.03550203 &  0.3664324 ] \\\\ [-8.31117186 &  0.43287353] \\\\ [-9.5868417  &  0.49931467]]\n",
       "\\end{matrix}\n",
       "\n",
       "\n",
       "\\end{align*}"
      ],
      "text/plain": [
       "<IPython.core.display.Latex object>"
      ]
     },
     "metadata": {},
     "output_type": "display_data"
    }
   ],
   "source": [
    "grad_L_W1 = np.matmul(X.T, grad_L_A1)\n",
    "\n",
    "showLatexEquation(\n",
    "    r'\\frac{\\partial L}{\\partial W_1} ='\n",
    "    f'{format_str(X)}^T \\\\cdot '\n",
    "    r'\\frac{\\partial L}{\\partial A_1}'\n",
    ")\n",
    "\n",
    "showLatexEquation(\n",
    "    f'= {format_str(X.T)} \\\\cdot {format_str(grad_L_A1)}'\n",
    ")\n",
    "\n",
    "showLatexEquation(\n",
    "    f'= {format_str(grad_L_W1)}'\n",
    ")\n"
   ]
  },
  {
   "attachments": {},
   "cell_type": "markdown",
   "metadata": {},
   "source": [
    "## [Improvement]\n",
    "Having walked through all the mathematics, now,\n",
    "\n",
    "`Let us improve our implementation by abstraction`"
   ]
  },
  {
   "attachments": {},
   "cell_type": "markdown",
   "metadata": {},
   "source": [
    "We will be:\n",
    "1. Implement major component of our network into layers/classes \n",
    "2. These classes have \n",
    "   - `forward`: calculate and predict\n",
    "   - `backward`: gradient decent (derivative) and update\n",
    "3. These major components include:\n",
    "   - activation function\n",
    "   - neuron"
   ]
  },
  {
   "attachments": {},
   "cell_type": "markdown",
   "metadata": {},
   "source": [
    "Why and How?\n",
    "\n",
    "- To simplify our code. With this approach, we are utilizing `gradient flow` by taking advantage of the derivative `chain rule` to easily and effectively implement our neural network.\n",
    "- This allows us to not get caught up on the complexity of math equation in our code since big components are separated from each other \n",
    "- And the back-propagation will be easy to understand + simple to implement thanks to the help of `Chain Rule`"
   ]
  },
  {
   "attachments": {},
   "cell_type": "markdown",
   "metadata": {},
   "source": [
    "Let's tackle neuron $\\rightarrow$ activation function $\\rightarrow$ loss function (already implemented) $\\rightarrow$ and then testing to make sure result matches our expected results "
   ]
  },
  {
   "cell_type": "code",
   "execution_count": 457,
   "metadata": {},
   "outputs": [],
   "source": [
    "class Layer:\n",
    "    '''\n",
    "        Base class for all layer classes\n",
    "    '''\n",
    "    def forward(self, X, training=True):\n",
    "        '''\n",
    "            Forward propagation calculation.\n",
    "            If training is True -> could save some value for back propagation\n",
    "            else -> just do the calculation\n",
    "        '''\n",
    "        raise NotImplementedError\n",
    "    def backward(self, gradient):\n",
    "        '''\n",
    "            Backward propagation calculation.\n",
    "            Use the saved value from training forward propagation\n",
    "            to calculate the gradient flow and return the result\n",
    "            to propagate to previous layer (if any)\n",
    "        '''\n",
    "        raise NotImplementedError"
   ]
  },
  {
   "attachments": {},
   "cell_type": "markdown",
   "metadata": {},
   "source": [
    "### Neuron"
   ]
  },
  {
   "cell_type": "code",
   "execution_count": 458,
   "metadata": {},
   "outputs": [],
   "source": [
    "class Neuron(Layer):\n",
    "    def __init__(self, \n",
    "        n_features, n_nodes, sigma = 0.1, alpha = 0.01, \n",
    "        init_weight = None, init_bias = None, \n",
    "        update_weight = True, debug_weight_gradient=False,\n",
    "    ):\n",
    "\n",
    "        self.W = init_weight if init_weight is not None else \\\n",
    "            initialize_weights(n_features, n_nodes, sigma)\n",
    "        self.B = init_bias if init_bias is not None else \\\n",
    "            initialize_bias(n_nodes, sigma)\n",
    "\n",
    "        self.n_features = n_features\n",
    "        self.n_nodes = n_nodes\n",
    "        self.alpha = alpha\n",
    "        self.update_weight = update_weight\n",
    "        self.debug_weight_gradient = debug_weight_gradient\n",
    "\n",
    "    def forward(self, X, training=True):\n",
    "        if training: self.saved_X = X\n",
    "        A = np.matmul(X, self.W) + self.B\n",
    "        return A\n",
    "\n",
    "    def backward(self, d_L_A):\n",
    "        d_L_W = np.matmul(self.saved_X.T, d_L_A)\n",
    "        d_L_B = np.sum(d_L_A, axis=0)\n",
    "\n",
    "        if self.debug_weight_gradient:\n",
    "            print('d_L_W: '); print(d_L_W)\n",
    "            print('d_L_B: '); print(d_L_B)\n",
    "\n",
    "        d_L_X = np.matmul(d_L_A, self.W.T)\n",
    "        \n",
    "        if self.update_weight: self._update(d_L_W, d_L_B)\n",
    "        return d_L_X\n",
    "\n",
    "    \n",
    "    def _update(self, d_L_W, d_L_B):\n",
    "        self.W = self.W - self.alpha * d_L_W\n",
    "        self.B = self.B - self.alpha * d_L_B"
   ]
  },
  {
   "attachments": {},
   "cell_type": "markdown",
   "metadata": {},
   "source": [
    "### Activation function"
   ]
  },
  {
   "cell_type": "code",
   "execution_count": 459,
   "metadata": {},
   "outputs": [],
   "source": [
    "class Identity(Layer):\n",
    "    def forward(self, A, training = True): return A\n",
    "    def backward(self, d_L_Z): return d_L_Z\n",
    "\n",
    "class SoftMax(Layer):\n",
    "    def forward(self, A, training=True):\n",
    "        Z = np.exp(A) / np.sum(np.exp(A), axis = 1).reshape(-1,1)\n",
    "        if training: self.saved_Z = Z\n",
    "        return Z\n",
    "    def backward(self, Y):\n",
    "        '''\n",
    "            NOTE:\n",
    "            This backward implementation of SoftMax is actually not it's correct derivative.\n",
    "            -> This is actually the derivative of CrossEntropyLoss with respect to the input of SoftMax's input\n",
    "            -> Meaning this is only correct if used as the last activation function !!!\n",
    "        '''\n",
    "        Z = self.saved_Z\n",
    "        nb = Z.shape[0]\n",
    "\n",
    "        d_L_A = (Z - Y) / nb\n",
    "        return d_L_A"
   ]
  },
  {
   "attachments": {},
   "cell_type": "markdown",
   "metadata": {},
   "source": [
    "### Testing"
   ]
  },
  {
   "cell_type": "code",
   "execution_count": 460,
   "metadata": {},
   "outputs": [],
   "source": [
    "class LayerInfo:\n",
    "    '''\n",
    "        Just to store some extra information about Layer's\n",
    "    '''\n",
    "    def __init__(self, layer, name, output_symbol):\n",
    "        self.name = name\n",
    "        self.output_symbol = output_symbol\n",
    "        self.layer = layer"
   ]
  },
  {
   "cell_type": "code",
   "execution_count": 461,
   "metadata": {},
   "outputs": [],
   "source": [
    "# Disable updating weight for testing purposes\n",
    "layer_1 = Neuron(n_features, n_nodes1, init_weight=W1, init_bias=B1, update_weight= False, debug_weight_gradient=True)\n",
    "layer_2 = Neuron(n_nodes1, n_nodes2, init_weight=W2, init_bias=B2, update_weight= False, debug_weight_gradient=True)\n",
    "layer_3 = Neuron(n_nodes2, n_output, init_weight=W3, init_bias=B3, update_weight= False, debug_weight_gradient=True)\n",
    "\n",
    "my_nn = [\n",
    "    LayerInfo(layer_1, 'Neuron 1', 'A1'), \n",
    "    LayerInfo(Identity(), 'Activation 1 - id', 'Z1'),\n",
    "    LayerInfo(layer_2, 'Neuron 2', 'A2'), \n",
    "    LayerInfo(Identity(), 'Activation 2 - id', 'Z2'),\n",
    "    LayerInfo(layer_3, 'Neuron 3', 'A3'), \n",
    "    LayerInfo(SoftMax(), 'SoftMax', 'Z3')\n",
    "]"
   ]
  },
  {
   "cell_type": "code",
   "execution_count": 462,
   "metadata": {},
   "outputs": [
    {
     "name": "stdout",
     "output_type": "stream",
     "text": [
      "Input: \n",
      "[[1 2 3]\n",
      " [4 5 6]\n",
      " [7 8 9]]\n"
     ]
    }
   ],
   "source": [
    "print(\"Input: \")\n",
    "print(X)"
   ]
  },
  {
   "attachments": {},
   "cell_type": "markdown",
   "metadata": {},
   "source": [
    "Forward"
   ]
  },
  {
   "cell_type": "code",
   "execution_count": 463,
   "metadata": {},
   "outputs": [
    {
     "name": "stdout",
     "output_type": "stream",
     "text": [
      "------ Neuron 1 output: --------\n",
      "A1 =\n",
      "[[-2.1 -4.8]\n",
      " [-4.5 -7.2]\n",
      " [-6.9 -9.6]]\n",
      "------ Activation 1 - id output: --------\n",
      "Z1 =\n",
      "[[-2.1 -4.8]\n",
      " [-4.5 -7.2]\n",
      " [-6.9 -9.6]]\n",
      "------ Neuron 2 output: --------\n",
      "A2 =\n",
      "[[  2.97  -3.67  -3.65]\n",
      " [  4.65  -8.71  -3.65]\n",
      " [  6.33 -13.75  -3.65]]\n",
      "------ Activation 2 - id output: --------\n",
      "Z2 =\n",
      "[[  2.97  -3.67  -3.65]\n",
      " [  4.65  -8.71  -3.65]\n",
      " [  6.33 -13.75  -3.65]]\n",
      "------ Neuron 3 output: --------\n",
      "A3 =\n",
      "[[ -6.352 -11.354]\n",
      " [ -6.352 -15.722]\n",
      " [ -6.352 -20.09 ]]\n",
      "------ SoftMax output: --------\n",
      "Z3 =\n",
      "[[9.93320432e-01 6.67956792e-03]\n",
      " [9.99914764e-01 8.52361226e-05]\n",
      " [9.99998919e-01 1.08059247e-06]]\n"
     ]
    }
   ],
   "source": [
    "input_val = X\n",
    "for i, layer_info in enumerate(my_nn):\n",
    "    layer = layer_info.layer\n",
    "    output_val = layer.forward(input_val)\n",
    "    print(f'------ {layer_info.name} output: --------')\n",
    "    print(f'{layer_info.output_symbol} =')\n",
    "    print(output_val)\n",
    "    input_val = output_val"
   ]
  },
  {
   "attachments": {},
   "cell_type": "markdown",
   "metadata": {},
   "source": [
    "Backward"
   ]
  },
  {
   "cell_type": "code",
   "execution_count": 464,
   "metadata": {},
   "outputs": [
    {
     "name": "stdout",
     "output_type": "stream",
     "text": [
      "Y: \n",
      "[[1. 0.]\n",
      " [0. 1.]\n",
      " [0. 1.]]\n"
     ]
    }
   ],
   "source": [
    "print('Y: ')\n",
    "print(Y)"
   ]
  },
  {
   "cell_type": "code",
   "execution_count": 465,
   "metadata": {},
   "outputs": [
    {
     "name": "stdout",
     "output_type": "stream",
     "text": [
      "    dZ3 ⇑\n",
      "------ SoftMax output: --------\n",
      "[[-0.00222652  0.00222652]\n",
      " [ 0.33330492 -0.33330492]\n",
      " [ 0.33333297 -0.33333297]]\n",
      "    dA3 ⇑\n",
      "d_L_W: \n",
      "[[ 3.65325283 -3.65325283]\n",
      " [-7.47824291  7.47824291]\n",
      " [-2.42510151  2.42510151]]\n",
      "d_L_B: \n",
      "[ 0.66441137 -0.66441137]\n",
      "------ Neuron 3 output: --------\n",
      "[[-2.44917490e-03  1.11326132e-03  3.89324007e-17]\n",
      " [ 3.66635413e-01 -1.66652461e-01  4.81084027e-17]\n",
      " [ 3.66666270e-01 -1.66666487e-01 -1.85037331e-17]]\n",
      "    dZ2 ⇑\n",
      "------ Activation 2 - id output: --------\n",
      "[[-2.44917490e-03  1.11326132e-03  3.89324007e-17]\n",
      " [ 3.66635413e-01 -1.66652461e-01  4.81084027e-17]\n",
      " [ 3.66666270e-01 -1.66666487e-01 -1.85037331e-17]]\n",
      "    dA2 ⇑\n",
      "d_L_W: \n",
      "[[-4.17471336e+00  1.89759698e+00 -1.70570095e-16]\n",
      " [-6.14801513e+00  2.79455233e+00 -3.55620185e-16]]\n",
      "d_L_B: \n",
      "[ 7.30852509e-01 -3.32205686e-01  6.85370703e-17]\n",
      "------ Neuron 2 output: --------\n",
      "[[ 4.27492347e-03 -2.22652264e-04]\n",
      " [-6.39945449e-01  3.33304921e-02]\n",
      " [-6.39999308e-01  3.33332973e-02]]\n",
      "    dZ1 ⇑\n",
      "------ Activation 1 - id output: --------\n",
      "[[ 4.27492347e-03 -2.22652264e-04]\n",
      " [-6.39945449e-01  3.33304921e-02]\n",
      " [-6.39999308e-01  3.33332973e-02]]\n",
      "    dA1 ⇑\n",
      "d_L_W: \n",
      "[[-7.03550203  0.3664324 ]\n",
      " [-8.31117186  0.43287353]\n",
      " [-9.5868417   0.49931467]]\n",
      "d_L_B: \n",
      "[-1.27566983  0.06644114]\n"
     ]
    }
   ],
   "source": [
    "back_propagation_input = Y\n",
    "\n",
    "last_index = len(my_nn) - 1\n",
    "for i, layer_info in enumerate(my_nn[::-1]):\n",
    "    layer = layer_info.layer\n",
    "    print(f'    d{layer_info.output_symbol} ⇑')\n",
    "    output_val = layer.backward(back_propagation_input)\n",
    "    if i == last_index: break # skip last layer back prop printing (since we dont use dL/dX)\n",
    "    print(f'------ {layer_info.name} output: --------')\n",
    "    print(output_val)\n",
    "    back_propagation_input = output_val"
   ]
  },
  {
   "attachments": {},
   "cell_type": "markdown",
   "metadata": {},
   "source": [
    "**🌟🌟 It can be seen that all the backward/forward propagation results/weights matches properly with our previous implementation**"
   ]
  },
  {
   "attachments": {},
   "cell_type": "markdown",
   "metadata": {},
   "source": [
    "## Tanh/Sigmoid"
   ]
  },
  {
   "attachments": {},
   "cell_type": "markdown",
   "metadata": {},
   "source": [
    "### Tanh\n",
    "\n",
    "forward:\n",
    "$$\n",
    "    Z = \\tanh(A) = \\frac{\\exp(A) - \\exp(-A)}{\\exp(A) + \\exp(-A)}\n",
    "$$\n",
    "\n",
    "backward:\n",
    "\n",
    "$$\n",
    "    \\frac{\\partial L}{\\partial A} = \\frac{\\partial L}{\\partial Z} \\odot \\{1- \\tanh^2(A)\\}\n",
    "$$\n",
    "\n",
    "\n",
    "$\\odot$ symbol means \"Hadamard product\", which is a component-wise product of matrices of the same size. The size of the output will be the same size."
   ]
  },
  {
   "cell_type": "code",
   "execution_count": 466,
   "metadata": {},
   "outputs": [],
   "source": [
    "class Tanh(Layer):\n",
    "    def _tanh(self, X):\n",
    "        return (np.exp(X) - np.exp(-X)) / (np.exp(X) + np.exp(-X))\n",
    "    def forward(self, A, training=True):\n",
    "        if training: self.saved_A = A\n",
    "        Z = self._tanh(A)\n",
    "        return Z\n",
    "    def backward(self, d_L_Z):\n",
    "        A = self.saved_A\n",
    "        d_L_A = d_L_Z * (1 - self._tanh(A) ** 2)\n",
    "        return d_L_A"
   ]
  },
  {
   "attachments": {},
   "cell_type": "markdown",
   "metadata": {},
   "source": [
    "### Sigmoid\n",
    "\n",
    "forward:\n",
    "$$\n",
    "    Z = sigmoid(A) = \\frac{1}{1 + \\exp(-A)}\n",
    "$$\n",
    "\n",
    "backward:\n",
    "\n",
    "$$\n",
    "    \\frac{\\partial L}{\\partial A} = \\frac{\\partial L}{\\partial Z} \\odot \\{1- sigmoid(A)\\} \\odot sigmoid(A)\n",
    "$$"
   ]
  },
  {
   "cell_type": "code",
   "execution_count": 467,
   "metadata": {},
   "outputs": [],
   "source": [
    "class Sigmoid(Layer):\n",
    "    def _sigmoid(self,A):\n",
    "        return 1/(1+np.exp(-A))\n",
    "\n",
    "    def forward(self, A, training = True):\n",
    "        if training: self.saved_A = A\n",
    "\n",
    "        Z = self._sigmoid(A)\n",
    "        return Z\n",
    "    def backward(self, d_L_Z):\n",
    "        A = self.saved_A\n",
    "        d_L_A = d_L_Z * (1 - self._sigmoid(A)) * self._sigmoid(A)\n",
    "        return d_L_A"
   ]
  },
  {
   "attachments": {},
   "cell_type": "markdown",
   "metadata": {},
   "source": [
    "## [Question 5] \n",
    "Presumption\n",
    "\n",
    "> Create a method that does the estimation. Determine which of the 10 probabilities output by forward propagation is the highest."
   ]
  },
  {
   "cell_type": "code",
   "execution_count": 468,
   "metadata": {},
   "outputs": [
    {
     "name": "stdout",
     "output_type": "stream",
     "text": [
      "Z3:  [[9.93320432e-01 6.67956792e-03]\n",
      " [9.99914764e-01 8.52361226e-05]\n",
      " [9.99998919e-01 1.08059247e-06]]\n",
      "Predicted labeL:  [[0]\n",
      " [0]\n",
      " [0]] Shape:  (3, 1)\n"
     ]
    }
   ],
   "source": [
    "def estimate_label(probabilities):\n",
    "    return np.argmax(probabilities, axis=1).reshape(-1, 1)\n",
    "\n",
    "print('Z3: ', Z3)\n",
    "pred_labels = estimate_label(Z3)\n",
    "print('Predicted labeL: ', pred_labels, 'Shape: ', pred_labels.shape)"
   ]
  },
  {
   "attachments": {},
   "cell_type": "markdown",
   "metadata": {},
   "source": [
    "## [Question 6] \n",
    "Learning and Estimation\n",
    "\n",
    "> Learn and estimate MNIST data and calculate Accuracy.\n",
    "\n"
   ]
  },
  {
   "attachments": {},
   "cell_type": "markdown",
   "metadata": {},
   "source": [
    "```\n",
    "We'll combine all of our previous code sections to create a **simple NN model** that does **batched training** on **MINIST dataset**\n",
    "```"
   ]
  },
  {
   "attachments": {},
   "cell_type": "markdown",
   "metadata": {},
   "source": [
    "### Mini Batch"
   ]
  },
  {
   "attachments": {},
   "cell_type": "markdown",
   "metadata": {},
   "source": [
    "Code below from Diver's sample"
   ]
  },
  {
   "cell_type": "code",
   "execution_count": 469,
   "metadata": {},
   "outputs": [],
   "source": [
    "class GetMiniBatch:\n",
    "    \"\"\"\n",
    "      Iterator to get a mini-batch\n",
    "      Parameters\n",
    "      ----------\n",
    "      X : The following forms of ndarray, shape (n_samples, n_features)\n",
    "        Training data\n",
    "      y : The following form of ndarray, shape (n_samples, n_output)\n",
    "        Correct answer value\n",
    "      batch_size : int\n",
    "        Batch size\n",
    "      seed : int\n",
    "        NumPy random number seed\n",
    "    \"\"\"\n",
    "    def __init__(self, X, y, batch_size = 20, seed=0):\n",
    "        self.batch_size = batch_size\n",
    "        np.random.seed(seed)\n",
    "        shuffle_index = np.random.permutation(np.arange(X.shape[0]))\n",
    "        self._X = X[shuffle_index]\n",
    "        self._y = y[shuffle_index]\n",
    "        self._stop = np.ceil(X.shape[0]/self.batch_size).astype(int)\n",
    "    def __len__(self):\n",
    "        return self._stop\n",
    "    def __getitem__(self,item):\n",
    "        p0 = item*self.batch_size\n",
    "        p1 = item*self.batch_size + self.batch_size\n",
    "        return self._X[p0:p1], self._y[p0:p1]        \n",
    "    def __iter__(self):\n",
    "        self._counter = 0\n",
    "        return self\n",
    "    def __next__(self):\n",
    "        if self._counter >= self._stop:\n",
    "            raise StopIteration()\n",
    "        p0 = self._counter*self.batch_size\n",
    "        p1 = self._counter*self.batch_size + self.batch_size\n",
    "        self._counter += 1\n",
    "        return self._X[p0:p1], self._y[p0:p1]"
   ]
  },
  {
   "cell_type": "code",
   "execution_count": 470,
   "metadata": {},
   "outputs": [
    {
     "name": "stdout",
     "output_type": "stream",
     "text": [
      "big X:  (110, 110) big Y:  (110, 10)\n"
     ]
    }
   ],
   "source": [
    "\n",
    "big_X = np.identity(110)\n",
    "big_Y = np.identity(10)[np.random.randint(0, 10, size= big_X.shape[0])]\n",
    "\n",
    "print('big X: ', big_X.shape, 'big Y: ', big_Y.shape)"
   ]
  },
  {
   "cell_type": "code",
   "execution_count": 471,
   "metadata": {},
   "outputs": [
    {
     "name": "stdout",
     "output_type": "stream",
     "text": [
      "Train Batch shape:  (20, 110) (20, 10)\n",
      "Train Batch shape:  (20, 110) (20, 10)\n",
      "Train Batch shape:  (20, 110) (20, 10)\n",
      "Train Batch shape:  (20, 110) (20, 10)\n",
      "Train Batch shape:  (20, 110) (20, 10)\n",
      "Train Batch shape:  (10, 110) (10, 10)\n"
     ]
    }
   ],
   "source": [
    "#test minibatch\n",
    "get_mini_batch = GetMiniBatch(big_X, big_Y, batch_size=20)\n",
    "\n",
    "counter = 0\n",
    "for mini_X_train, mini_y_train in get_mini_batch:\n",
    "    print('Train Batch shape: ', mini_X_train.shape, mini_y_train.shape)"
   ]
  },
  {
   "attachments": {},
   "cell_type": "markdown",
   "metadata": {},
   "source": [
    "### Neural Network Class"
   ]
  },
  {
   "cell_type": "code",
   "execution_count": 472,
   "metadata": {},
   "outputs": [],
   "source": [
    "from sklearn.metrics import  accuracy_score\n",
    "\n",
    "class ScratchSimpleNeuralNetrowkClassifier():\n",
    "    \"\"\"\n",
    "    Simple 3-layers Neural Network Classifier\n",
    "\n",
    "    Parameters\n",
    "    ----------\n",
    "        n_features: number of features of input X\n",
    "        n_output: Number of output classes (same as number of nodes in the last (third) layer)\n",
    "        batch_size: size of training batch\n",
    "        epoch: # of training epochs\n",
    "        verbose: set True for printing infos\n",
    "    Attributes\n",
    "    ----------\n",
    "        layers_info: layers information of layers in the network\n",
    "        layers: array containing all layers\n",
    "        losses: validation losses array (training)\n",
    "        accuracy: validation accuracy array (training)\n",
    "    \"\"\"\n",
    "    def __init__(self, \n",
    "        n_features, n_output, \n",
    "        label_encoder,\n",
    "        batch_size=20, epochs = 10, \n",
    "        verbose = True\n",
    "    ):\n",
    "        n_nodes1 = 400\n",
    "        n_nodes2 = 200\n",
    "        # Disable updating weight for testing purposes\n",
    "        layer_1 = Neuron(n_features, n_nodes1)\n",
    "        layer_2 = Neuron(n_nodes1, n_nodes2)\n",
    "        layer_3 = Neuron(n_nodes2, n_output)\n",
    "\n",
    "        self.layers_info = [\n",
    "            LayerInfo(layer_1, 'Neuron 1', 'A1'), \n",
    "            LayerInfo(Tanh(), 'Activation 1 - Tanh', 'Z1'),\n",
    "            LayerInfo(layer_2, 'Neuron 2', 'A2'), \n",
    "            LayerInfo(Tanh(), 'Activation 2 - Tanh', 'Z2'),\n",
    "            LayerInfo(layer_3, 'Neuron 3', 'A3'), \n",
    "            LayerInfo(SoftMax(), 'SoftMax', 'Z3')\n",
    "        ]\n",
    "\n",
    "        self.batch_size = batch_size\n",
    "        self.n_features = n_features\n",
    "        self.n_output = n_output\n",
    "        self.label_encoder = label_encoder\n",
    "        self.layers = [x.layer for x in self.layers_info]\n",
    "        self.verbose = verbose\n",
    "        self.epochs = epochs\n",
    "\n",
    "        if self.verbose:\n",
    "            print('n_features: ', self.n_features)\n",
    "            print('batch_size: ', self.batch_size)\n",
    "            print('n_nodes1: ', n_nodes1)\n",
    "            print('n_nodes2: ', n_nodes2)\n",
    "            print('n_output: ', self.n_output)\n",
    "            print('epochs: ', self.epochs)\n",
    "            print('---Layers info: ---')\n",
    "            print('\\n'.join([x.name for x in self.layers_info]))\n",
    "\n",
    "    def _loss(self, Z, y):\n",
    "        '''\n",
    "            Cross Entropy Error\n",
    "        '''\n",
    "        return cross_entropy_error(Z, y)\n",
    "\n",
    "    def _forward(self,X, training = True):\n",
    "        '''\n",
    "            Do forward pass through all layers\n",
    "                training: if training is True, some values will be stored\n",
    "                in the layer for backward propagation, else it would just do\n",
    "                the calculation.\n",
    "        '''\n",
    "        input_val = X\n",
    "        for layer in self.layers:\n",
    "            output_val = layer.forward(input_val, training = training)\n",
    "            input_val = output_val\n",
    "        Z = input_val # final output\n",
    "        return Z\n",
    "    def _backward(self, Y):\n",
    "        '''\n",
    "            Back-propagation with input is the training label Y\n",
    "        '''\n",
    "        back_propagation_input = Y\n",
    "        for layer in self.layers[::-1]:\n",
    "            output_val = layer.backward(back_propagation_input)\n",
    "            back_propagation_input = output_val\n",
    "\n",
    "    def fit(self, X, y, X_val=None, y_val=None):\n",
    "        \"\"\"\n",
    "        Training the neural network\n",
    "\n",
    "        Parameters\n",
    "        ----------\n",
    "        X : ndarray with shape: (n_samples, n_features)\n",
    "            Training Feature\n",
    "        y : ndarray with shape: (n_samples, n_output)\n",
    "            Training labels\n",
    "        X_val : ndarray with shape: (n_samples, n_features)\n",
    "            Validation Features\n",
    "        y_val : ndarray with shape: (n_samples, n_output)\n",
    "            Validation labels\n",
    "        \"\"\"\n",
    "        #setup batch\n",
    "        training_batches = GetMiniBatch(X, y, batch_size=self.batch_size)\n",
    "        print('#Batches: ', len(training_batches))\n",
    "        \n",
    "        self.losses = []\n",
    "        self.accuracy = []\n",
    "\n",
    "        if(self.verbose):\n",
    "            print('--- Initial loss/accuracy ---')\n",
    "            self._validate(X_val, y_val)\n",
    "\n",
    "        for epoch in range(self.epochs):            \n",
    "            for batch in training_batches:\n",
    "                mini_X_train, mini_y_train = batch\n",
    "                self._forward(mini_X_train)                \n",
    "                self._backward(mini_y_train)\n",
    "\n",
    "            if self.verbose:\n",
    "                print('------ Training Epoch: ', epoch, '-------')\n",
    "                self._validate(X_val, y_val)\n",
    "\n",
    "    def _to_label(self, probabilities):\n",
    "        '''\n",
    "            Turn predicted probabilities into one-hot encoded labels\n",
    "        '''\n",
    "        estimated_labels = estimate_label(probabilities)\n",
    "        return self.label_encoder.transform(estimated_labels)\n",
    "    \n",
    "    def _accuracy(self, Z, Y):\n",
    "        return accuracy_score(self._to_label(Z).reshape(-1), self._to_label(Y).reshape(-1))\n",
    "\n",
    "\n",
    "    def _validate(self, X_val, y_val):\n",
    "        '''\n",
    "            Calculate validation loss and accuracy\n",
    "        '''\n",
    "        if(X_val is None and y_val is None): return\n",
    "\n",
    "        Z_val = self._forward(X_val, training = False) # ! Important to set training to false \n",
    "        loss, acc = self._loss(Z_val, y_val), self._accuracy(Z_val, y_val)\n",
    "        print('- loss: ', loss, ' -- accuracy: ', acc)\n",
    "        self.losses.append(loss)\n",
    "        self.accuracy.append(acc)\n",
    "\n",
    "    def predict(self, X):\n",
    "        \"\"\"\n",
    "        Estimation/Prediction Using our Neural Network Classifier\n",
    "\n",
    "        Parameters\n",
    "        ----------\n",
    "        X : ndarray with shape: (n_samples, n_features)\n",
    "            sample features\n",
    "\n",
    "        Returns\n",
    "        -------\n",
    "            ndarray with shape: (n_samples, n_output)\n",
    "            Prediction results\n",
    "        \"\"\"\n",
    "        return self._to_label(self._forward(X))"
   ]
  },
  {
   "attachments": {},
   "cell_type": "markdown",
   "metadata": {},
   "source": [
    "### MNIST DATA"
   ]
  },
  {
   "cell_type": "code",
   "execution_count": 473,
   "metadata": {},
   "outputs": [
    {
     "name": "stdout",
     "output_type": "stream",
     "text": [
      "train size:  (60000, 28, 28) (60000,)\n",
      "test size:  (10000, 28, 28) (10000,)\n"
     ]
    }
   ],
   "source": [
    "# Load\n",
    "from keras.datasets import mnist\n",
    "(X_train, y_train), (X_test, y_test) = mnist.load_data()\n",
    "print('train size: ', X_train.shape, y_train.shape)\n",
    "print('test size: ', X_test.shape, y_test.shape)"
   ]
  },
  {
   "cell_type": "code",
   "execution_count": 474,
   "metadata": {},
   "outputs": [
    {
     "data": {
      "text/plain": [
       "784"
      ]
     },
     "execution_count": 474,
     "metadata": {},
     "output_type": "execute_result"
    }
   ],
   "source": [
    "# calculate total number of channel' features\n",
    "from functools import reduce\n",
    "merged_channel_size = reduce(lambda a,b: a*b, [x for x in X_train.shape[1:]], 1)\n",
    "merged_channel_size"
   ]
  },
  {
   "cell_type": "code",
   "execution_count": 475,
   "metadata": {},
   "outputs": [
    {
     "data": {
      "text/plain": [
       "(60000, 784)"
      ]
     },
     "execution_count": 475,
     "metadata": {},
     "output_type": "execute_result"
    }
   ],
   "source": [
    "# reshape to one channel\n",
    "X_train = X_train.reshape(-1, merged_channel_size)\n",
    "X_test = X_test.reshape(-1, merged_channel_size)\n",
    "\n",
    "X_train.shape"
   ]
  },
  {
   "cell_type": "code",
   "execution_count": 476,
   "metadata": {},
   "outputs": [
    {
     "name": "stdout",
     "output_type": "stream",
     "text": [
      "1.0\n",
      "0.0\n"
     ]
    }
   ],
   "source": [
    "#scaling\n",
    "X_train = X_train.astype(float)\n",
    "X_test = X_test.astype(float)\n",
    "X_train /= 255\n",
    "X_test /= 255\n",
    "print(X_train.max()) # 1.0\n",
    "print(X_train.min()) # 0.0"
   ]
  },
  {
   "cell_type": "code",
   "execution_count": 477,
   "metadata": {},
   "outputs": [],
   "source": [
    "#one hot encode for multiclass labels!\n",
    "from sklearn.preprocessing import OneHotEncoder\n",
    "label_enc = OneHotEncoder(handle_unknown='ignore', sparse=False)\n",
    "\n",
    "y_train = label_enc.fit_transform(y_train[:, np.newaxis])\n",
    "y_test = label_enc.transform(y_test[:, np.newaxis])"
   ]
  },
  {
   "cell_type": "code",
   "execution_count": 478,
   "metadata": {},
   "outputs": [
    {
     "name": "stdout",
     "output_type": "stream",
     "text": [
      "Train:  (48000, 784) (48000, 10)\n",
      "Val:  (12000, 784) (12000, 10)\n",
      "Test:  (10000, 784) (10000, 10)\n"
     ]
    }
   ],
   "source": [
    "#validation split\n",
    "from sklearn.model_selection import train_test_split\n",
    "X_train, X_val, y_train, y_val = train_test_split(X_train, y_train, test_size=0.2)\n",
    "print('Train: ', X_train.shape, y_train.shape) # (48000, 784)\n",
    "print('Val: ', X_val.shape, y_val.shape) # (48000, 784)\n",
    "print('Test: ', X_test.shape, y_test.shape) # (48000, 784)\n"
   ]
  },
  {
   "attachments": {},
   "cell_type": "markdown",
   "metadata": {},
   "source": [
    "### Training"
   ]
  },
  {
   "cell_type": "code",
   "execution_count": 479,
   "metadata": {},
   "outputs": [
    {
     "name": "stdout",
     "output_type": "stream",
     "text": [
      "n_features:  784\n",
      "batch_size:  1000\n",
      "n_nodes1:  400\n",
      "n_nodes2:  200\n",
      "n_output:  10\n",
      "epochs:  10\n",
      "---Layers info: ---\n",
      "Neuron 1\n",
      "Activation 1 - Tanh\n",
      "Neuron 2\n",
      "Activation 2 - Tanh\n",
      "Neuron 3\n",
      "SoftMax\n"
     ]
    }
   ],
   "source": [
    "model = ScratchSimpleNeuralNetrowkClassifier(\n",
    "    n_features = X_train.shape[1],\n",
    "    n_output = y_train.shape[1],\n",
    "    label_encoder = label_enc,\n",
    "    batch_size=1000,\n",
    "    epochs=10\n",
    ")"
   ]
  },
  {
   "cell_type": "code",
   "execution_count": 480,
   "metadata": {},
   "outputs": [
    {
     "name": "stdout",
     "output_type": "stream",
     "text": [
      "#Batches:  48\n",
      "--- Initial loss/accuracy ---\n",
      "- loss:  2.654268315219716  -- accuracy:  0.817\n",
      "------ Training Epoch:  0 -------\n",
      "- loss:  1.4426946485616121  -- accuracy:  0.9172666666666667\n",
      "------ Training Epoch:  1 -------\n",
      "- loss:  1.045138133705917  -- accuracy:  0.9440833333333334\n",
      "------ Training Epoch:  2 -------\n",
      "- loss:  0.8544590418911816  -- accuracy:  0.9551666666666667\n",
      "------ Training Epoch:  3 -------\n",
      "- loss:  0.7426059000370397  -- accuracy:  0.9604666666666667\n",
      "------ Training Epoch:  4 -------\n",
      "- loss:  0.6685577647311383  -- accuracy:  0.96425\n",
      "------ Training Epoch:  5 -------\n",
      "- loss:  0.615535701490258  -- accuracy:  0.9671166666666666\n",
      "------ Training Epoch:  6 -------\n",
      "- loss:  0.5754349041116199  -- accuracy:  0.9695\n",
      "------ Training Epoch:  7 -------\n",
      "- loss:  0.5438621840340637  -- accuracy:  0.97095\n",
      "------ Training Epoch:  8 -------\n",
      "- loss:  0.5182282505367538  -- accuracy:  0.9722166666666666\n",
      "------ Training Epoch:  9 -------\n",
      "- loss:  0.4969066730628107  -- accuracy:  0.9731166666666666\n"
     ]
    }
   ],
   "source": [
    "model.fit(X_train, y_train, X_val, y_val)"
   ]
  },
  {
   "attachments": {},
   "cell_type": "markdown",
   "metadata": {},
   "source": [
    "## [Question 7]\n",
    " Learning curve plot"
   ]
  },
  {
   "cell_type": "code",
   "execution_count": 481,
   "metadata": {},
   "outputs": [
    {
     "data": {
      "image/png": "[encoded data removed]",
      "text/plain": [
       "<Figure size 432x288 with 1 Axes>"
      ]
     },
     "metadata": {
      "needs_background": "light"
     },
     "output_type": "display_data"
    }
   ],
   "source": [
    "import  matplotlib.pyplot as plt\n",
    "plt.plot(model.losses, label = 'Cross Val Loss')\n",
    "plt.plot(model.accuracy, label = 'Accuracy')\n",
    "plt.title('Training Score')\n",
    "plt.legend()\n",
    "plt.show()"
   ]
  },
  {
   "attachments": {},
   "cell_type": "markdown",
   "metadata": {},
   "source": [
    "## Question 8\n",
    "\n",
    "Confirmation of misclassification"
   ]
  },
  {
   "cell_type": "code",
   "execution_count": 482,
   "metadata": {},
   "outputs": [
    {
     "name": "stdout",
     "output_type": "stream",
     "text": [
      "Test Acc:  0.8801\n"
     ]
    }
   ],
   "source": [
    "pred = model.predict(X_test)\n",
    "accuracy = accuracy_score(pred, y_test)\n",
    "print('Test Acc: ', accuracy)"
   ]
  },
  {
   "cell_type": "code",
   "execution_count": 483,
   "metadata": {},
   "outputs": [
    {
     "name": "stdout",
     "output_type": "stream",
     "text": [
      "Wrong classification in test set\n",
      "Test set size:  10000\n",
      "False classification count:  2398\n",
      "Plot title shows: (Prediction (P) / Real (R))\n"
     ]
    },
    {
     "data": {
      "image/png": "[encoded data removed]",
      "text/plain": [
       "<Figure size 720x720 with 100 Axes>"
      ]
     },
     "metadata": {},
     "output_type": "display_data"
    }
   ],
   "source": [
    "def show_misclassified(y_pred, y_val,X_val):\n",
    "    \"\"\"\n",
    "    Display word classification results side by side. The display above the image is \"estimated result / correct answer\".\n",
    "    Parameters:\n",
    "    ----------\n",
    "    y_pred : Estimated ndarray (n_samples,)\n",
    "    y_val : Correct label of verification data (n_samples,)\n",
    "    X_val : Verification data features (n_samples, n_features)\n",
    "    \"\"\"\n",
    "    import numpy as np\n",
    "    import matplotlib.pyplot as plt\n",
    "\n",
    "    size = 10\n",
    "    num = size * size # How many to display\n",
    "\n",
    "    true_false = y_pred==y_val\n",
    "    false_list = np.where(true_false==False)[0].astype(np.int32)\n",
    "    print('Test set size: ', len(X_val))\n",
    "    print('False classification count: ', len(false_list))\n",
    "    print('Plot title shows: (Prediction (P) / Real (R))')\n",
    "    if false_list.shape[0] < num:\n",
    "        num = false_list.shape[0]\n",
    "    fig = plt.figure(figsize=(size, size), facecolor='white')\n",
    "    fig.subplots_adjust(left=0, right=0.8,  bottom=0, top=0.8, hspace=1, wspace=0.5)\n",
    "    for i in range(num):\n",
    "        ax = fig.add_subplot(size, size, i + 1, xticks=[], yticks=[])\n",
    "        ax.set_title(\"P{} / R{}\".format(np.argmax(y_pred[false_list[i]]),np.argmax(y_val[false_list[i]])))\n",
    "        ax.imshow(X_val.reshape(-1,28,28)[false_list[i]], cmap='gray')\n",
    "\n",
    "print('Wrong classification in test set')\n",
    "show_misclassified(pred, y_test, X_test)"
   ]
  },
  {
   "attachments": {},
   "cell_type": "markdown",
   "metadata": {},
   "source": [
    "# Documentation Suggestions"
   ]
  },
  {
   "attachments": {},
   "cell_type": "markdown",
   "metadata": {},
   "source": [
    "### 1. Wrong description\n",
    "\n",
    "![wrong dim](images/nn_wrong_dim.png)\n",
    "$\\frac{\\partial L}{\\partial A_{3_j}}$ : Gradient of loss $L$ with respect to $A_3$ of j-th sample (n_nodes2,)\n",
    "\n",
    "should be\n",
    "\n",
    "\n",
    "$\\frac{\\partial L}{\\partial A_{3_j}}$ : Gradient of loss $L$ with respect to $A_3$ of j-th sample (n_output,)"
   ]
  },
  {
   "attachments": {},
   "cell_type": "markdown",
   "metadata": {},
   "source": [
    "### 2. Wrong description\n",
    "\n",
    "![wrong description layer 2](images/nn_wrong_description.png)\n",
    "\n",
    "The highlighted line should be the description for $\\frac{\\partial L}{\\partial Z_1}$, not  $\\frac{\\partial L}{\\partial Z_2}$"
   ]
  },
  {
   "attachments": {},
   "cell_type": "markdown",
   "metadata": {},
   "source": [
    "### 3. Y Param and Prediction output Shape\n",
    "\n",
    "![image.png](images\\nn_y.png)\n",
    "![image.png](images\\nn_y_val.png)\n",
    "\n",
    "the label $Y$ is one hot encoded so shape description should be (n_samples, n_output)\n",
    "\n",
    "![image.png](images\\nn_pred.png)\n",
    "\n",
    "similar to the output shape of prediction method, should be (n_samples, n_output), not (n_samples, 1)"
   ]
  }
 ],
 "metadata": {
  "kernelspec": {
   "display_name": "Python 3.7.11 ('ML')",
   "language": "python",
   "name": "python3"
  },
  "language_info": {
   "codemirror_mode": {
    "name": "ipython",
    "version": 3
   },
   "file_extension": ".py",
   "mimetype": "text/x-python",
   "name": "python",
   "nbconvert_exporter": "python",
   "pygments_lexer": "ipython3",
   "version": "3.7.11"
  },
  "orig_nbformat": 4,
  "vscode": {
   "interpreter": {
    "hash": "935aef36618b7cc2f312cf374f77956e659ca303be2213268c5a976db1afafec"
   }
  }
 },
 "nbformat": 4,
 "nbformat_minor": 2
}
