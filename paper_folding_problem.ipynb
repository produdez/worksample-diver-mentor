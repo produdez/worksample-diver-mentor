{
 "cells": [
  {
   "attachments": {},
   "cell_type": "markdown",
   "metadata": {},
   "source": [
    "# Paper Folding Problem\n",
    "\"A Python Introductory Assignment Let's try to use Python.\"\n",
    "\n",
    "[Link](https://diver.diveintocode.jp/curriculums/1385)"
   ]
  },
  {
   "attachments": {},
   "cell_type": "markdown",
   "metadata": {},
   "source": [
    "## [Problem 1] \n",
    "Implementation using exponentiation arithmetic operators\n",
    "\n",
    "> Create a program that uses the exponentiation arithmetic operator. As a template, we have prepared a code that calculates the thickness of a sheet of paper when it is folded once. Rewrite the code to calculate the thickness when the paper is folded 43 times."
   ]
  },
  {
   "attachments": {},
   "cell_type": "markdown",
   "metadata": {},
   "source": [
    "### Solve"
   ]
  },
  {
   "cell_type": "code",
   "execution_count": 21,
   "metadata": {},
   "outputs": [],
   "source": [
    "'''\n",
    "    Input: \n",
    "        initial_thickness: thickness of the paper before folding\n",
    "        n_folds: number of folds performed\n",
    "    Output:\n",
    "        folded_thickness(): thickness after being folded\n",
    "'''\n",
    "def folded_thickness_exp(initial_thickness, n_folds):\n",
    "    return initial_thickness * (2**n_folds)"
   ]
  },
  {
   "cell_type": "code",
   "execution_count": 22,
   "metadata": {},
   "outputs": [],
   "source": [
    "THICKNESS = 0.00008"
   ]
  },
  {
   "cell_type": "code",
   "execution_count": 23,
   "metadata": {},
   "outputs": [
    {
     "name": "stdout",
     "output_type": "stream",
     "text": [
      "thickness if folded 1 times: 0.00016\n"
     ]
    }
   ],
   "source": [
    "# fold once\n",
    "n = 1\n",
    "print(f'thickness if folded {n} times: {folded_thickness_exp(THICKNESS, n)}')"
   ]
  },
  {
   "cell_type": "code",
   "execution_count": 24,
   "metadata": {},
   "outputs": [
    {
     "name": "stdout",
     "output_type": "stream",
     "text": [
      "thickness if folded 2 times: 0.00032\n",
      "thickness if folded 3 times: 0.00064\n"
     ]
    }
   ],
   "source": [
    "# fold twice\n",
    "n = 2\n",
    "print(f'thickness if folded {n} times: {folded_thickness_exp(THICKNESS, n)}')\n",
    "# fold three times\n",
    "n = 3\n",
    "print(f'thickness if folded {n} times: {folded_thickness_exp(THICKNESS, n)}')"
   ]
  },
  {
   "cell_type": "code",
   "execution_count": 25,
   "metadata": {},
   "outputs": [
    {
     "name": "stdout",
     "output_type": "stream",
     "text": [
      "thickness if folded 43 times: 703687441.77664\n"
     ]
    }
   ],
   "source": [
    "# 43\n",
    "n = 43\n",
    "print(f'thickness if folded {n} times: {folded_thickness_exp(THICKNESS, n)}')"
   ]
  },
  {
   "attachments": {},
   "cell_type": "markdown",
   "metadata": {},
   "source": [
    "## [Problem 2] \n",
    "Unit Conversion\n",
    "\n",
    "> If the unit is meters, it's hard to feel the difference, so please convert the unit to ◯◯ 10,000 kilometers and display it."
   ]
  },
  {
   "cell_type": "code",
   "execution_count": 26,
   "metadata": {},
   "outputs": [],
   "source": [
    "'''\n",
    "    Input: \n",
    "        meter: distance in meter\n",
    "    Output:\n",
    "        to_kilometer(): distance in kilometer\n",
    "'''\n",
    "def to_kilometer(meter):\n",
    "    kilometer = meter / 1000\n",
    "    return round(kilometer, 2) # round to 2 decimal points"
   ]
  },
  {
   "cell_type": "code",
   "execution_count": 27,
   "metadata": {},
   "outputs": [
    {
     "name": "stdout",
     "output_type": "stream",
     "text": [
      "43 folds thickness: 703,687.44 kilometers\n"
     ]
    }
   ],
   "source": [
    "final_thickness = to_kilometer(folded_thickness_exp(THICKNESS, 43))\n",
    "print(f'43 folds thickness: {final_thickness:,} kilometers') # we use f'{number:,}' to add thousand separator"
   ]
  },
  {
   "cell_type": "code",
   "execution_count": 28,
   "metadata": {},
   "outputs": [
    {
     "name": "stdout",
     "output_type": "stream",
     "text": [
      "Folded paper reached the moon? True\n"
     ]
    }
   ],
   "source": [
    "# compare with the moon\n",
    "MOON_DISTANCE = 384400 # kilometers\n",
    "print(f'Folded paper reached the moon? {final_thickness >= MOON_DISTANCE}') "
   ]
  },
  {
   "attachments": {},
   "cell_type": "markdown",
   "metadata": {},
   "source": [
    "## [Problem 3] \n",
    "Create using a for statement\n",
    "\n",
    "> Next, create a program that uses the for statement."
   ]
  },
  {
   "cell_type": "code",
   "execution_count": 29,
   "metadata": {},
   "outputs": [
    {
     "name": "stdout",
     "output_type": "stream",
     "text": [
      "703687441.77664\n",
      "Valid?  True\n"
     ]
    }
   ],
   "source": [
    "# we implement the folded_thickness function using for loop this time\n",
    "\n",
    "def folded_thickness_for(initial_thickness, n_folds):\n",
    "    thickness = initial_thickness\n",
    "    for _ in range(n_folds):\n",
    "        thickness *= 2\n",
    "    return thickness\n",
    "\n",
    "print(folded_thickness_for(THICKNESS, 43))\n",
    "\n",
    "# check if same result as previous implementation\n",
    "print('Valid? ', folded_thickness_for(THICKNESS, 43) == folded_thickness_exp(THICKNESS, 43)) "
   ]
  },
  {
   "attachments": {},
   "cell_type": "markdown",
   "metadata": {},
   "source": [
    "## [Problem 4] \n",
    "Comparison of calculation time\n",
    "> Use the template below to output the execution times of the two methods and compare them. Compare the time in the range excluding the parts used by either method, such as variable definition and print​"
   ]
  },
  {
   "attachments": {},
   "cell_type": "markdown",
   "metadata": {},
   "source": [
    "**NOTE**\n",
    "\n",
    "We need to modify our function into using Decimal type for testing purposes since float/integer cannot handle large enough numbers that's needed for testing purposes"
   ]
  },
  {
   "cell_type": "code",
   "execution_count": 30,
   "metadata": {},
   "outputs": [],
   "source": [
    "from decimal import Decimal\n",
    "\n",
    "def folded_thickness_exp_decimal(initial_thickness, n_folds):\n",
    "    return Decimal(initial_thickness) * (Decimal(2)**n_folds)\n",
    "\n",
    "def folded_thickness_for_decimal(initial_thickness, n_folds):\n",
    "    thickness = Decimal(initial_thickness)\n",
    "    for _ in range(n_folds):\n",
    "        thickness *= Decimal(2)\n",
    "    return thickness"
   ]
  },
  {
   "cell_type": "code",
   "execution_count": 31,
   "metadata": {},
   "outputs": [],
   "source": [
    "import time\n",
    "\n",
    "'''\n",
    "    The test function just runs the function with all given argument and show elapsed time\n",
    "'''\n",
    "def test_time(function, *arguments):\n",
    "    start = time.time_ns()\n",
    "    #####\n",
    "    function(*arguments)\n",
    "    #####\n",
    "    elapsed_time = time.time_ns() - start\n",
    "    print(\"time : {}[ns]\".format(elapsed_time))"
   ]
  },
  {
   "attachments": {},
   "cell_type": "markdown",
   "metadata": {},
   "source": [
    "Documentation for time.time_ns() [here](https://docs.python.org/3/library/time.html#time.time_ns)"
   ]
  },
  {
   "cell_type": "code",
   "execution_count": 32,
   "metadata": {},
   "outputs": [],
   "source": [
    "test_values = [50, 100, 1000, 10000, 100000, 1000000, 3000000, 3100000]"
   ]
  },
  {
   "attachments": {},
   "cell_type": "markdown",
   "metadata": {},
   "source": [
    "The exponent implementation test"
   ]
  },
  {
   "cell_type": "code",
   "execution_count": 33,
   "metadata": {},
   "outputs": [
    {
     "name": "stdout",
     "output_type": "stream",
     "text": [
      "---Test n: 50 ---\n",
      "time : 0[ns]\n",
      "---Test n: 100 ---\n",
      "time : 0[ns]\n",
      "---Test n: 1000 ---\n",
      "time : 0[ns]\n",
      "---Test n: 10000 ---\n",
      "time : 0[ns]\n",
      "---Test n: 100000 ---\n",
      "time : 0[ns]\n",
      "---Test n: 1000000 ---\n",
      "time : 0[ns]\n",
      "---Test n: 3000000 ---\n",
      "time : 0[ns]\n",
      "---Test n: 3100000 ---\n",
      "time : 0[ns]\n"
     ]
    }
   ],
   "source": [
    "for n in test_values:\n",
    "    print(f'---Test n: {n} ---')\n",
    "    test_time(folded_thickness_exp_decimal, THICKNESS, n)"
   ]
  },
  {
   "attachments": {},
   "cell_type": "markdown",
   "metadata": {},
   "source": [
    "The for loop implementation test"
   ]
  },
  {
   "cell_type": "code",
   "execution_count": 34,
   "metadata": {},
   "outputs": [
    {
     "name": "stdout",
     "output_type": "stream",
     "text": [
      "---Test n: 50 ---\n",
      "time : 0[ns]\n",
      "---Test n: 100 ---\n",
      "time : 499000[ns]\n",
      "---Test n: 1000 ---\n",
      "time : 499100[ns]\n",
      "---Test n: 10000 ---\n",
      "time : 2499600[ns]\n",
      "---Test n: 100000 ---\n",
      "time : 32502600[ns]\n",
      "---Test n: 1000000 ---\n",
      "time : 312499100[ns]\n",
      "---Test n: 3000000 ---\n",
      "time : 913504200[ns]\n",
      "---Test n: 3100000 ---\n",
      "time : 914032200[ns]\n"
     ]
    }
   ],
   "source": [
    "for n in test_values:\n",
    "    print(f'---Test n: {n} ---')\n",
    "    test_time(folded_thickness_for_decimal, THICKNESS, n)"
   ]
  },
  {
   "attachments": {},
   "cell_type": "markdown",
   "metadata": {},
   "source": [
    "Time varies by execution so we can also use magic commands to benchmark these codes"
   ]
  },
  {
   "cell_type": "code",
   "execution_count": 35,
   "metadata": {},
   "outputs": [
    {
     "name": "stdout",
     "output_type": "stream",
     "text": [
      "3.43 µs ± 158 ns per loop (mean ± std. dev. of 7 runs, 100000 loops each)\n"
     ]
    }
   ],
   "source": [
    "%%timeit\n",
    "# benching exponent\n",
    "folded_thickness_decimal(THICKNESS, 100000)"
   ]
  },
  {
   "cell_type": "code",
   "execution_count": 36,
   "metadata": {},
   "outputs": [
    {
     "name": "stdout",
     "output_type": "stream",
     "text": [
      "31.6 ms ± 1.48 ms per loop (mean ± std. dev. of 7 runs, 10 loops each)\n"
     ]
    }
   ],
   "source": [
    "%%timeit\n",
    "# benching for loop\n",
    "folded_thickness_for_decimal(THICKNESS, 100000)"
   ]
  },
  {
   "attachments": {},
   "cell_type": "markdown",
   "metadata": {},
   "source": [
    "Very small difference in the two implementations in our little tests, though of course the built in exponent operator is much more efficient"
   ]
  },
  {
   "attachments": {},
   "cell_type": "markdown",
   "metadata": {},
   "source": [
    "## [Problem 5] \n",
    "Saving to a list \n",
    "\n",
    "\n",
    "> First, create an empty list.\n",
    "> Next, add the value before folding to the list.\n",
    "> Add the value of the process of folding the paper up to n times in the for statement to the list.\n"
   ]
  },
  {
   "cell_type": "code",
   "execution_count": 37,
   "metadata": {},
   "outputs": [
    {
     "data": {
      "text/plain": [
       "[8e-05]"
      ]
     },
     "execution_count": 37,
     "metadata": {},
     "output_type": "execute_result"
    }
   ],
   "source": [
    "recorded_thickness = [THICKNESS] # starts with the initial thickness\n",
    "recorded_thickness"
   ]
  },
  {
   "cell_type": "code",
   "execution_count": 38,
   "metadata": {},
   "outputs": [
    {
     "name": "stdout",
     "output_type": "stream",
     "text": [
      "List length:  44\n",
      "Recorded thickness:  [8e-05, 0.00016, 0.00032, 0.00064, 0.00128, 0.00256, 0.00512, 0.01024, 0.02048, 0.04096, 0.08192, 0.16384, 0.32768, 0.65536, 1.31072, 2.62144, 5.24288, 10.48576, 20.97152, 41.94304, 83.88608, 167.77216, 335.54432, 671.08864, 1342.17728, 2684.35456, 5368.70912, 10737.41824, 21474.83648, 42949.67296, 85899.34592, 171798.69184, 343597.38368, 687194.76736, 1374389.53472, 2748779.06944, 5497558.13888, 10995116.27776, 21990232.55552, 43980465.11104, 87960930.22208, 175921860.44416, 351843720.88832, 703687441.77664]\n"
     ]
    }
   ],
   "source": [
    "'''\n",
    "    Here we take advantage of the fact that we need to construct a list and:\n",
    "    - Calculate next fold (n+1) from previous fold (n), which is the last element of the list\n",
    "    - And append the new element to the list\n",
    "'''\n",
    "for _ in range(43):\n",
    "    recorded_thickness.append(recorded_thickness[-1] * 2)\n",
    "\n",
    "print('List length: ', len(recorded_thickness))\n",
    "print('Recorded thickness: ', recorded_thickness)"
   ]
  },
  {
   "attachments": {},
   "cell_type": "markdown",
   "metadata": {},
   "source": [
    "## [Problem 6]\n",
    "Displaying a line graph\n",
    "\n",
    "> A library called Matplotlib is used to draw the graph. "
   ]
  },
  {
   "cell_type": "code",
   "execution_count": 39,
   "metadata": {},
   "outputs": [
    {
     "data": {
      "image/png": "[encoded data removed]",
      "text/plain": [
       "<Figure size 432x288 with 1 Axes>"
      ]
     },
     "metadata": {
      "needs_background": "light"
     },
     "output_type": "display_data"
    }
   ],
   "source": [
    "import matplotlib.pyplot as plt\n",
    "%matplotlib inline\n",
    "\n",
    "plt.title(\"thickness of folded paper\")\n",
    "plt.xlabel(\"number of folds\")\n",
    "plt.ylabel(\"thickness [m]\")\n",
    "plt.plot(recorded_thickness)  # Enter the variable name of the list in \"List name\"\n",
    "plt.show()"
   ]
  },
  {
   "attachments": {},
   "cell_type": "markdown",
   "metadata": {},
   "source": [
    "## [Problem 7] \n",
    "Customizing graphs\n",
    "\n",
    "> Let's customize the graph to make it easier to see. Create at least 3 customized graphs."
   ]
  },
  {
   "attachments": {},
   "cell_type": "markdown",
   "metadata": {},
   "source": [
    "Here's i'll demonstrate one custom graph with all the changes below:\n",
    "- Change graph size\n",
    "- Customize the line\n",
    "- Customize the markers\n",
    "- Change font of title\n",
    "- Change tick size / distance"
   ]
  },
  {
   "attachments": {},
   "cell_type": "markdown",
   "metadata": {},
   "source": [
    "All plotting arguments can be found \n",
    "- [Line & Marker](https://matplotlib.org/stable/api/_as_gen/matplotlib.lines.Line2D.html#matplotlib.lines.Line2D)\n",
    "- [Tick Filtering](https://matplotlib.org/stable/api/_as_gen/matplotlib.pyplot.xticks.html)\n",
    "- [Tick Style](https://matplotlib.org/stable/api/_as_gen/matplotlib.pyplot.tick_params.html)\n",
    "- [Figure](https://matplotlib.org/stable/api/_as_gen/matplotlib.pyplot.figure.html)\n",
    "- [Text](https://matplotlib.org/3.1.1/api/text_api.html)"
   ]
  },
  {
   "cell_type": "code",
   "execution_count": 40,
   "metadata": {},
   "outputs": [
    {
     "data": {
      "image/png": "[encoded data removed]",
      "text/plain": [
       "<Figure size 2000x1000 with 1 Axes>"
      ]
     },
     "metadata": {},
     "output_type": "display_data"
    }
   ],
   "source": [
    "%matplotlib inline\n",
    "import numpy as np\n",
    "\n",
    "# figure config\n",
    "fig = plt.figure(\n",
    "    figsize=(10,5), # size\n",
    "    dpi=200, # resolution\n",
    "    facecolor='lightgray' # background color\n",
    ")\n",
    "\n",
    "line_style = dict(\n",
    "    color='green',\n",
    "    linestyle='--', # dashed line\n",
    "    linewidth=1.5,\n",
    ")\n",
    "\n",
    "MARKER_SIZE = 5\n",
    "plot_data = recorded_thickness\n",
    "\n",
    "# This is for specifying which marker/x-tick to draw on to the plot\n",
    "MARKER_MASK = np.append(\n",
    "    np.arange(0, len(plot_data) - 5, 4), # Draw every 4th ones of the early markers\n",
    "    np.arange(len(plot_data) - 5, len(plot_data), 1), # Last 5 markers are all shown\n",
    ")\n",
    "\n",
    "marker_style = dict(\n",
    "    marker = 'o', # dot marker\n",
    "    markersize = MARKER_SIZE,\n",
    "    markevery= MARKER_MASK, # only show some markers\n",
    "    markerfacecolor = 'orange',\n",
    "    markeredgecolor= 'brown',\n",
    "    markeredgewidth= 0.15 * MARKER_SIZE,\n",
    ")\n",
    "\n",
    "plt.title(\"Thickness of folded paper\", fontsize=15, family='cursive', weight='semibold')\n",
    "plt.xlabel(\"number of folds\")\n",
    "plt.ylabel(\"thickness [m]\")\n",
    "plt.plot(plot_data, figure=fig,**line_style, **marker_style)\n",
    "\n",
    "# config x/y ticks\n",
    "plt.xticks(MARKER_MASK) # Only show some of the important ticks\n",
    "plt.tick_params(labelsize=8, labelcolor='blue')\n",
    "plt.show()"
   ]
  }
 ],
 "metadata": {
  "kernelspec": {
   "display_name": "ML",
   "language": "python",
   "name": "python3"
  },
  "language_info": {
   "codemirror_mode": {
    "name": "ipython",
    "version": 3
   },
   "file_extension": ".py",
   "mimetype": "text/x-python",
   "name": "python",
   "nbconvert_exporter": "python",
   "pygments_lexer": "ipython3",
   "version": "3.7.11"
  },
  "orig_nbformat": 4,
  "vscode": {
   "interpreter": {
    "hash": "935aef36618b7cc2f312cf374f77956e659ca303be2213268c5a976db1afafec"
   }
  }
 },
 "nbformat": 4,
 "nbformat_minor": 2
}
