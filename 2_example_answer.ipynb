{
 "cells": [
  {
   "attachments": {},
   "cell_type": "markdown",
   "metadata": {},
   "source": [
    "# Content Considerations \n",
    "- Points that are easy to make mistakes\n",
    "- Alternative solutions\n",
    "- Developmental content\n"
   ]
  },
  {
   "attachments": {},
   "cell_type": "markdown",
   "metadata": {},
   "source": [
    "# Context\n",
    "Student should be quite familiar with Python's programming concept at this point since they've already went through `Introduction to Python` from the `ML_pre-learning Python series`"
   ]
  },
  {
   "attachments": {},
   "cell_type": "markdown",
   "metadata": {},
   "source": [
    "# Paper Folding Problem\n",
    "\"A Python Introductory Assignment Let's try to use Python.\"\n",
    "\n",
    "[Link](https://diver.diveintocode.jp/curriculums/1385)"
   ]
  },
  {
   "attachments": {},
   "cell_type": "markdown",
   "metadata": {},
   "source": [
    "Example answer for this problem is **[HERE](paper_folding_problem.ipynb)**"
   ]
  },
  {
   "attachments": {},
   "cell_type": "markdown",
   "metadata": {},
   "source": [
    "# Neural Network\n",
    "\"B Sprint10 assignment Deep Learning Scratch Neural Networks\"\n",
    "\n",
    "[Link](https://diver.diveintocode.jp/curriculums/1876)"
   ]
  },
  {
   "attachments": {},
   "cell_type": "markdown",
   "metadata": {},
   "source": [
    "Example answer for this problem is [HERE](neural_network.ipynb)"
   ]
  }
 ],
 "metadata": {
  "kernelspec": {
   "display_name": "Python 3.7.11 ('ML')",
   "language": "python",
   "name": "python3"
  },
  "language_info": {
   "name": "python",
   "version": "3.7.11"
  },
  "orig_nbformat": 4,
  "vscode": {
   "interpreter": {
    "hash": "935aef36618b7cc2f312cf374f77956e659ca303be2213268c5a976db1afafec"
   }
  }
 },
 "nbformat": 4,
 "nbformat_minor": 2
}
